{
 "cells": [
  {
   "cell_type": "code",
   "execution_count": 1,
   "metadata": {
    "colab": {
     "base_uri": "https://localhost:8080/"
    },
    "id": "mpilgWgqIkX2",
    "outputId": "596ba123-f2df-433c-d172-8b9d137a157b"
   },
   "outputs": [
    {
     "name": "stdout",
     "output_type": "stream",
     "text": [
      "Looking in indexes: https://pypi.org/simple, https://us-python.pkg.dev/colab-wheels/public/simple/\n",
      "Requirement already satisfied: pyspark in /usr/local/lib/python3.8/dist-packages (3.3.1)\n",
      "Requirement already satisfied: py4j==0.10.9.5 in /usr/local/lib/python3.8/dist-packages (from pyspark) (0.10.9.5)\n",
      "Looking in indexes: https://pypi.org/simple, https://us-python.pkg.dev/colab-wheels/public/simple/\n",
      "Requirement already satisfied: findspark in /usr/local/lib/python3.8/dist-packages (2.0.1)\n"
     ]
    }
   ],
   "source": [
    "# Installation des packages necéssaires à l'exécution du projet\n",
    "!pip install pyspark\n",
    "!pip install findspark"
   ]
  },
  {
   "cell_type": "code",
   "execution_count": 3,
   "metadata": {
    "id": "533aODSfIlDE"
   },
   "outputs": [],
   "source": [
    "# Importation des librairies standards \n",
    "import findspark\n",
    "import re\n",
    "from pyspark.sql import SparkSession\n",
    "from pyspark import  HiveContext , SparkContext\n",
    "from pyspark.sql.window import Window\n",
    "from pyspark.sql import functions as F\n",
    "from pyspark.sql.functions import monotonically_increasing_id\n",
    "from pyspark.sql.types import IntegerType ,StringType, FloatType\n",
    "from pyspark.sql.functions import col , udf ,unix_timestamp , explode, count, when\n",
    "from pyspark.sql.functions import count, isnan, when\n",
    "from pyspark.sql.functions import substring\n",
    "from pyspark.sql.functions import udf"
   ]
  },
  {
   "cell_type": "code",
   "execution_count": 4,
   "metadata": {
    "id": "gv_NMmbUTdyO"
   },
   "outputs": [],
   "source": [
    "# Définition de la session spark \n",
    "spark = SparkSession.builder.appName('json_example').getOrCreate()"
   ]
  },
  {
   "cell_type": "code",
   "execution_count": 5,
   "metadata": {
    "id": "tGErjnCaImF0"
   },
   "outputs": [],
   "source": [
    "# Lecture de la base de donnnées issue du webscrapping\n",
    "df_booking = spark.read.option(\"header\",\"true\" )\\\n",
    "               .option(\"inferSchema\",\"true\" ).json(r'base_booking.json')"
   ]
  },
  {
   "cell_type": "code",
   "execution_count": 6,
   "metadata": {
    "colab": {
     "base_uri": "https://localhost:8080/"
    },
    "id": "lBJviFjoIm0z",
    "outputId": "f7998506-b379-4bd5-a9c6-5bebcfde3039"
   },
   "outputs": [
    {
     "name": "stdout",
     "output_type": "stream",
     "text": [
      "+---------------+----------------+--------------------+-------------------+--------------------+--------------------+--------------------+--------------------+--------------------+----------+--------------------+----+-------+--------------------+\n",
      "|_corrupt_record|   accessibilite|             adresse|annulation_gratuite|    breakfast_inclus|         description|         emplacement|                lien|            long_lat|nb_etoiles|                 nom|note|   prix|    type_hebergement|\n",
      "+---------------+----------------+--------------------+-------------------+--------------------+--------------------+--------------------+--------------------+--------------------+----------+--------------------+----+-------+--------------------+\n",
      "|              [|            null|                null|               null|                null|                null|                null|                null|                null|      null|                null|null|   null|                null|\n",
      "|           null|4,1 km du centre|\\nVia Arbe 63, Bi...|Annulation gratuite|                null|<div id=\"property...|Bicocca - Zara, M...|https://www.booki...|<a id=\"hotel_addr...|   3 sur 5|BB Hotels Apartho...| 8,7|€ 1 980|              Studio|\n",
      "|           null|  50 m du centre|\\nPassaggio degli...|               null|                null|<div id=\"property...|Centre de Milan, ...|https://www.booki...|<a id=\"hotel_addr...|   3 sur 5|Aparthotel Dei Me...| 8,8|€ 2 463|Appartement Standard|\n",
      "|           null|1,2 km du centre|\\nVia San Vincenz...|Annulation gratuite|Petit-déjeuner co...|<div id=\"property...|Centre de Milan, ...|https://www.booki...|<a id=\"hotel_addr...|   3 sur 5|   B&B Sant'Agostino| 7,7|€ 1 824|Chambre Double ou...|\n",
      "|           null|0,8 km du centre|\\nVia Santa Sofia...|Annulation GRATUITE|Petit-déjeuner co...|<div id=\"property...|Centre de Milan, ...|https://www.booki...|<a id=\"hotel_addr...|   3 sur 5|        Hotel Canada| 8,3|€ 3 022|      Chambre Double|\n",
      "|           null|2,8 km du centre|\\n35 Via Carlo Fa...|Annulation gratuite|                null|<div id=\"property...|Gare Garibaldi, M...|https://www.booki...|<a id=\"hotel_addr...|   3 sur 5|Il tetto fiorito ...| 8,4|€ 1 222|Appartement 1 Cha...|\n",
      "|           null|2,3 km du centre|\\n8 Via Gaetano d...|Annulation gratuite|                null|<div id=\"property...|Gare Garibaldi, M...|https://www.booki...|<a id=\"hotel_addr...|      null|Bosco verticale Home|null|€ 2 165|Appartement 1 Cha...|\n",
      "|           null|1,5 km du centre|\\nCorso Garibaldi...|Annulation GRATUITE|                null|<div id=\"property...|Centre de Milan, ...|https://www.booki...|<a id=\"hotel_addr...|   4 sur 5|   Urban Hive Milano| 8,5|€ 3 652|      Chambre Double|\n",
      "|           null|3,1 km du centre|\\nVia Mauro Macch...|Annulation GRATUITE|                null|<div id=\"property...|Gare centrale, Milan|https://www.booki...|<a id=\"hotel_addr...|   4 sur 5|Residenza delle C...| 9,2|€ 2 392|              Studio|\n",
      "|           null|1,7 km du centre|\\n52 Corso di Por...|Annulation gratuite|                null|<div id=\"property...|Centre de Milan, ...|https://www.booki...|<a id=\"hotel_addr...|      null|Appartamento in B...| 8,0|€ 2 026|Appartement 1 Cha...|\n",
      "|           null|0,9 km du centre|\\nDifferent Locat...|               null|                null|<div id=\"property...|Centre de Milan, ...|https://www.booki...|<a id=\"hotel_addr...|   3 sur 5|Brera Apartments ...| 8,5|€ 2 514|Studio - Via Pass...|\n",
      "|           null| 500 m du centre|\\n2 Via Giorgio G...|               null|                null|<div id=\"property...|Centre de Milan, ...|https://www.booki...|<a id=\"hotel_addr...|   4 sur 5|Imperiale Suites ...| 8,3|€ 4 416|Appartement 1 Cha...|\n",
      "|           null|2,6 km du centre|\\n19 Via Tiziano,...|Annulation gratuite|Petit-déjeuner co...|<div id=\"property...|Fiera Milano City...|https://www.booki...|<a id=\"hotel_addr...|   3 sur 5|Ampio ed incantev...| 8,7|€ 1 812|Appartement 1 Cha...|\n",
      "|           null|2,5 km du centre|\\nCorso Vercelli ...|Annulation GRATUITE|Petit-déjeuner co...|<div id=\"property...|Fiera Milano City...|https://www.booki...|<a id=\"hotel_addr...|   3 sur 5|         Hotel Metrò| 8,4|€ 2 048|Petite Chambre Do...|\n",
      "|           null|1,8 km du centre|\\n2 Via Pontida, ...|Annulation gratuite|                null|<div id=\"property...|Centre de Milan, ...|https://www.booki...|<a id=\"hotel_addr...|   3 sur 5|CENTRO-MOSCOVA Ap...| 8,0|€ 2 230|Appartement 1 Cha...|\n",
      "|           null|1,3 km du centre|\\nVia Orti 4, Cen...|Annulation gratuite|                null|<div id=\"property...|Centre de Milan, ...|https://www.booki...|<a id=\"hotel_addr...|   3 sur 5|Brand new apartme...| 9,5|€ 3 517|         Appartement|\n",
      "|           null|1,1 km du centre|\\n1 Via Boschetti...|Annulation gratuite|                null|<div id=\"property...|Centre de Milan, ...|https://www.booki...|<a id=\"hotel_addr...|   3 sur 5|       ViaBoschetti1| 9,5|€ 2 813|         Appartement|\n",
      "|           null|  1 km du centre|\\nVia Fatebenefra...|Annulation gratuite|                null|<div id=\"property...|Centre de Milan, ...|https://www.booki...|<a id=\"hotel_addr...|   4 sur 5|        Hotel Cavour| 8,2|   null|Chambre Double ou...|\n",
      "|           null|5,7 km du centre|\\n2 Via Tibullo 1...|Annulation gratuite|                null|<div id=\"property...|      Certosa, Milan|https://www.booki...|<a id=\"hotel_addr...|   4 sur 5|              Marina| 9,7|€ 2 096|Appartement 2 Cha...|\n",
      "|           null|  2 km du centre|\\n56 Alzaia Navig...|Annulation gratuite|                null|<div id=\"property...|      Navigli, Milan|https://www.booki...|<a id=\"hotel_addr...|   3 sur 5|Boutique suite su...|  10|€ 2 260|Appartement 1 Cha...|\n",
      "+---------------+----------------+--------------------+-------------------+--------------------+--------------------+--------------------+--------------------+--------------------+----------+--------------------+----+-------+--------------------+\n",
      "only showing top 20 rows\n",
      "\n"
     ]
    }
   ],
   "source": [
    "# Affichage de la base de données\n",
    "df_booking.show()"
   ]
  },
  {
   "cell_type": "code",
   "execution_count": 7,
   "metadata": {
    "id": "iphXP8EcWeUw"
   },
   "outputs": [],
   "source": [
    "# On supprime la première ligne qui est totalement nulle\n",
    "df_booking = spark.createDataFrame(df_booking.tail(df_booking.count()-1), df_booking.schema)\n",
    "df_booking=df_booking.drop(\"_corrupt_record\")"
   ]
  },
  {
   "cell_type": "code",
   "execution_count": 8,
   "metadata": {
    "colab": {
     "base_uri": "https://localhost:8080/"
    },
    "id": "UhwRccMYXawx",
    "outputId": "0ce83f0b-e5c6-4ae6-f40a-3baf4012b829"
   },
   "outputs": [
    {
     "name": "stdout",
     "output_type": "stream",
     "text": [
      "+----------------+--------------------+-------------------+--------------------+--------------------+--------------------+--------------------+--------------------+----------+--------------------+----+-------+--------------------+\n",
      "|   accessibilite|             adresse|annulation_gratuite|    breakfast_inclus|         description|         emplacement|                lien|            long_lat|nb_etoiles|                 nom|note|   prix|    type_hebergement|\n",
      "+----------------+--------------------+-------------------+--------------------+--------------------+--------------------+--------------------+--------------------+----------+--------------------+----+-------+--------------------+\n",
      "|4,1 km du centre|\\nVia Arbe 63, Bi...|Annulation gratuite|                null|<div id=\"property...|Bicocca - Zara, M...|https://www.booki...|<a id=\"hotel_addr...|   3 sur 5|BB Hotels Apartho...| 8,7|€ 1 980|              Studio|\n",
      "|  50 m du centre|\\nPassaggio degli...|               null|                null|<div id=\"property...|Centre de Milan, ...|https://www.booki...|<a id=\"hotel_addr...|   3 sur 5|Aparthotel Dei Me...| 8,8|€ 2 463|Appartement Standard|\n",
      "|1,2 km du centre|\\nVia San Vincenz...|Annulation gratuite|Petit-déjeuner co...|<div id=\"property...|Centre de Milan, ...|https://www.booki...|<a id=\"hotel_addr...|   3 sur 5|   B&B Sant'Agostino| 7,7|€ 1 824|Chambre Double ou...|\n",
      "|0,8 km du centre|\\nVia Santa Sofia...|Annulation GRATUITE|Petit-déjeuner co...|<div id=\"property...|Centre de Milan, ...|https://www.booki...|<a id=\"hotel_addr...|   3 sur 5|        Hotel Canada| 8,3|€ 3 022|      Chambre Double|\n",
      "|2,8 km du centre|\\n35 Via Carlo Fa...|Annulation gratuite|                null|<div id=\"property...|Gare Garibaldi, M...|https://www.booki...|<a id=\"hotel_addr...|   3 sur 5|Il tetto fiorito ...| 8,4|€ 1 222|Appartement 1 Cha...|\n",
      "|2,3 km du centre|\\n8 Via Gaetano d...|Annulation gratuite|                null|<div id=\"property...|Gare Garibaldi, M...|https://www.booki...|<a id=\"hotel_addr...|      null|Bosco verticale Home|null|€ 2 165|Appartement 1 Cha...|\n",
      "|1,5 km du centre|\\nCorso Garibaldi...|Annulation GRATUITE|                null|<div id=\"property...|Centre de Milan, ...|https://www.booki...|<a id=\"hotel_addr...|   4 sur 5|   Urban Hive Milano| 8,5|€ 3 652|      Chambre Double|\n",
      "|3,1 km du centre|\\nVia Mauro Macch...|Annulation GRATUITE|                null|<div id=\"property...|Gare centrale, Milan|https://www.booki...|<a id=\"hotel_addr...|   4 sur 5|Residenza delle C...| 9,2|€ 2 392|              Studio|\n",
      "|1,7 km du centre|\\n52 Corso di Por...|Annulation gratuite|                null|<div id=\"property...|Centre de Milan, ...|https://www.booki...|<a id=\"hotel_addr...|      null|Appartamento in B...| 8,0|€ 2 026|Appartement 1 Cha...|\n",
      "|0,9 km du centre|\\nDifferent Locat...|               null|                null|<div id=\"property...|Centre de Milan, ...|https://www.booki...|<a id=\"hotel_addr...|   3 sur 5|Brera Apartments ...| 8,5|€ 2 514|Studio - Via Pass...|\n",
      "| 500 m du centre|\\n2 Via Giorgio G...|               null|                null|<div id=\"property...|Centre de Milan, ...|https://www.booki...|<a id=\"hotel_addr...|   4 sur 5|Imperiale Suites ...| 8,3|€ 4 416|Appartement 1 Cha...|\n",
      "|2,6 km du centre|\\n19 Via Tiziano,...|Annulation gratuite|Petit-déjeuner co...|<div id=\"property...|Fiera Milano City...|https://www.booki...|<a id=\"hotel_addr...|   3 sur 5|Ampio ed incantev...| 8,7|€ 1 812|Appartement 1 Cha...|\n",
      "|2,5 km du centre|\\nCorso Vercelli ...|Annulation GRATUITE|Petit-déjeuner co...|<div id=\"property...|Fiera Milano City...|https://www.booki...|<a id=\"hotel_addr...|   3 sur 5|         Hotel Metrò| 8,4|€ 2 048|Petite Chambre Do...|\n",
      "|1,8 km du centre|\\n2 Via Pontida, ...|Annulation gratuite|                null|<div id=\"property...|Centre de Milan, ...|https://www.booki...|<a id=\"hotel_addr...|   3 sur 5|CENTRO-MOSCOVA Ap...| 8,0|€ 2 230|Appartement 1 Cha...|\n",
      "|1,3 km du centre|\\nVia Orti 4, Cen...|Annulation gratuite|                null|<div id=\"property...|Centre de Milan, ...|https://www.booki...|<a id=\"hotel_addr...|   3 sur 5|Brand new apartme...| 9,5|€ 3 517|         Appartement|\n",
      "|1,1 km du centre|\\n1 Via Boschetti...|Annulation gratuite|                null|<div id=\"property...|Centre de Milan, ...|https://www.booki...|<a id=\"hotel_addr...|   3 sur 5|       ViaBoschetti1| 9,5|€ 2 813|         Appartement|\n",
      "|  1 km du centre|\\nVia Fatebenefra...|Annulation gratuite|                null|<div id=\"property...|Centre de Milan, ...|https://www.booki...|<a id=\"hotel_addr...|   4 sur 5|        Hotel Cavour| 8,2|   null|Chambre Double ou...|\n",
      "|5,7 km du centre|\\n2 Via Tibullo 1...|Annulation gratuite|                null|<div id=\"property...|      Certosa, Milan|https://www.booki...|<a id=\"hotel_addr...|   4 sur 5|              Marina| 9,7|€ 2 096|Appartement 2 Cha...|\n",
      "|  2 km du centre|\\n56 Alzaia Navig...|Annulation gratuite|                null|<div id=\"property...|      Navigli, Milan|https://www.booki...|<a id=\"hotel_addr...|   3 sur 5|Boutique suite su...|  10|€ 2 260|Appartement 1 Cha...|\n",
      "|  2 km du centre|\\n5 Via Giuseppe ...|Annulation gratuite|                null|<div id=\"property...|     Sempione, Milan|https://www.booki...|<a id=\"hotel_addr...|   3 sur 5|   Mini loft Moscova| 9,2|€ 2 590|Appartement 1 Cha...|\n",
      "+----------------+--------------------+-------------------+--------------------+--------------------+--------------------+--------------------+--------------------+----------+--------------------+----+-------+--------------------+\n",
      "only showing top 20 rows\n",
      "\n"
     ]
    }
   ],
   "source": [
    "#On affiche de nouveau le dataframe\n",
    "df_booking.show()"
   ]
  },
  {
   "cell_type": "code",
   "execution_count": 9,
   "metadata": {
    "colab": {
     "base_uri": "https://localhost:8080/"
    },
    "id": "FOXmGaEfYmqs",
    "outputId": "d4864346-4ebc-462b-dc8e-5eb5cc3a63cf"
   },
   "outputs": [
    {
     "name": "stdout",
     "output_type": "stream",
     "text": [
      "La base de données contient :  814 lignes et 13 colonnes. \n"
     ]
    }
   ],
   "source": [
    "# Dimensions de la base de données\n",
    "print(\"La base de données contient : \", df_booking.count(), \"lignes et\", len(df_booking.columns), \"colonnes. \")"
   ]
  },
  {
   "cell_type": "code",
   "execution_count": 10,
   "metadata": {
    "colab": {
     "base_uri": "https://localhost:8080/"
    },
    "id": "sVNg_GKUd7qO",
    "outputId": "7a2cd490-8864-4fce-b698-08fb695ec64f"
   },
   "outputs": [
    {
     "name": "stdout",
     "output_type": "stream",
     "text": [
      "root\n",
      " |-- accessibilite: string (nullable = true)\n",
      " |-- adresse: string (nullable = true)\n",
      " |-- annulation_gratuite: string (nullable = true)\n",
      " |-- breakfast_inclus: string (nullable = true)\n",
      " |-- description: string (nullable = true)\n",
      " |-- emplacement: string (nullable = true)\n",
      " |-- lien: string (nullable = true)\n",
      " |-- long_lat: string (nullable = true)\n",
      " |-- nb_etoiles: string (nullable = true)\n",
      " |-- nom: string (nullable = true)\n",
      " |-- note: string (nullable = true)\n",
      " |-- prix: string (nullable = true)\n",
      " |-- type_hebergement: string (nullable = true)\n",
      "\n"
     ]
    }
   ],
   "source": [
    "# Afficher les colonnes et leurs types dans la base de données \n",
    "df_booking.printSchema()"
   ]
  },
  {
   "cell_type": "markdown",
   "metadata": {
    "id": "n2NpZXOA1eeL"
   },
   "source": [
    "### Affichage des valeurs manquantes"
   ]
  },
  {
   "cell_type": "code",
   "execution_count": 11,
   "metadata": {
    "colab": {
     "base_uri": "https://localhost:8080/"
    },
    "id": "1GbUxir-Im6p",
    "outputId": "0d7796a6-5927-4571-bcdf-d1ddb13edc0a"
   },
   "outputs": [
    {
     "name": "stdout",
     "output_type": "stream",
     "text": [
      "accessibilite: 1\n",
      "adresse: 1\n",
      "annulation_gratuite: 397\n",
      "breakfast_inclus: 757\n",
      "description: 1\n",
      "emplacement: 1\n",
      "lien: 1\n",
      "long_lat: 1\n",
      "nb_etoiles: 96\n",
      "nom: 1\n",
      "note: 76\n",
      "prix: 13\n",
      "type_hebergement: 1\n"
     ]
    }
   ],
   "source": [
    "# Création d'une liste qui contient les noms des colonnes de la base \n",
    "cols = df_booking.columns\n",
    "\n",
    "# Création d'un dictionnaire qui stocke pour chaque colonne ses valeurs manquantes\n",
    "nan_counts = df_booking.agg(*[count(when(isnan(c) | col(c).isNull(), c)).alias(c) for c in cols]).toPandas().to_dict()\n",
    "\n",
    "# Affichage\n",
    "for col in cols:\n",
    "    print(f\"{col}: {nan_counts[col][0]}\")"
   ]
  },
  {
   "cell_type": "markdown",
   "metadata": {
    "id": "AyUX7UG21j9b"
   },
   "source": [
    "### Traitement des valeurs manquantes"
   ]
  },
  {
   "cell_type": "code",
   "execution_count": 12,
   "metadata": {
    "id": "8GQFGBXpInAx"
   },
   "outputs": [],
   "source": [
    "# On va supprimer les observations pour lesquelles le prix est manquant\n",
    "df_booking = df_booking.na.drop(subset=[\"prix\"])"
   ]
  },
  {
   "cell_type": "code",
   "execution_count": 13,
   "metadata": {
    "id": "gp7jaR-WgO3-"
   },
   "outputs": [],
   "source": [
    "# Les observations ne contenant pas de petit déjeuner inclus et/ou annulation gratuite ont pour ces colonnes des valeurs manquantes \n",
    "\n",
    "# Pour le petit déjeuner inclus, on imputera ces observations de la mention \"Non compris \"\n",
    "df_booking = df_booking.fillna(\"Non compris\", [\"breakfast_inclus\"])\n",
    "\n",
    "# Pour l'annulation gratuire, on imputera ces observations de la mention \"Indisponible \"\n",
    "df_booking = df_booking.fillna(\"Indisponible\", [\"annulation_gratuite\"])\n"
   ]
  },
  {
   "cell_type": "code",
   "execution_count": 14,
   "metadata": {
    "id": "slMKX88EhpqY"
   },
   "outputs": [],
   "source": [
    "# Pour les observations ne contenant pas de nombre d'étoile cela signifie qu'ils ne sont pas encore étoilées et on les imputera par 0 car la notation commence à partir de une étoile\n",
    "df_booking = df_booking.fillna('0', [\"nb_etoiles\"])"
   ]
  },
  {
   "cell_type": "code",
   "execution_count": 15,
   "metadata": {
    "id": "dLikf4kdhsbS"
   },
   "outputs": [],
   "source": [
    "# Certaines observations sont nouvellements placées sur booking.com et pour cette raison ils ne se sont pas encore vus attribuer de note ainsi la colonne \"note\" est pour ces observations manquantes\n",
    "# Nous allons donc les imputer par '000' afin de signifier qu'ils ne sont pas notés \n",
    "\n",
    "df_booking = df_booking.fillna('0', [\"note\"])"
   ]
  },
  {
   "cell_type": "code",
   "execution_count": 16,
   "metadata": {
    "colab": {
     "base_uri": "https://localhost:8080/"
    },
    "id": "ZH1v2fqHInSI",
    "outputId": "d629f90e-0791-4b04-d0e1-b06800b38ecb"
   },
   "outputs": [
    {
     "name": "stdout",
     "output_type": "stream",
     "text": [
      "+----------------+--------------------+-------------------+--------------------+--------------------+--------------------+--------------------+--------------------+----------+--------------------+----+-------+--------------------+\n",
      "|   accessibilite|             adresse|annulation_gratuite|    breakfast_inclus|         description|         emplacement|                lien|            long_lat|nb_etoiles|                 nom|note|   prix|    type_hebergement|\n",
      "+----------------+--------------------+-------------------+--------------------+--------------------+--------------------+--------------------+--------------------+----------+--------------------+----+-------+--------------------+\n",
      "|4,1 km du centre|\\nVia Arbe 63, Bi...|Annulation gratuite|         Non compris|<div id=\"property...|Bicocca - Zara, M...|https://www.booki...|<a id=\"hotel_addr...|   3 sur 5|BB Hotels Apartho...| 8,7|€ 1 980|              Studio|\n",
      "|  50 m du centre|\\nPassaggio degli...|       Indisponible|         Non compris|<div id=\"property...|Centre de Milan, ...|https://www.booki...|<a id=\"hotel_addr...|   3 sur 5|Aparthotel Dei Me...| 8,8|€ 2 463|Appartement Standard|\n",
      "|1,2 km du centre|\\nVia San Vincenz...|Annulation gratuite|Petit-déjeuner co...|<div id=\"property...|Centre de Milan, ...|https://www.booki...|<a id=\"hotel_addr...|   3 sur 5|   B&B Sant'Agostino| 7,7|€ 1 824|Chambre Double ou...|\n",
      "|0,8 km du centre|\\nVia Santa Sofia...|Annulation GRATUITE|Petit-déjeuner co...|<div id=\"property...|Centre de Milan, ...|https://www.booki...|<a id=\"hotel_addr...|   3 sur 5|        Hotel Canada| 8,3|€ 3 022|      Chambre Double|\n",
      "|2,8 km du centre|\\n35 Via Carlo Fa...|Annulation gratuite|         Non compris|<div id=\"property...|Gare Garibaldi, M...|https://www.booki...|<a id=\"hotel_addr...|   3 sur 5|Il tetto fiorito ...| 8,4|€ 1 222|Appartement 1 Cha...|\n",
      "|2,3 km du centre|\\n8 Via Gaetano d...|Annulation gratuite|         Non compris|<div id=\"property...|Gare Garibaldi, M...|https://www.booki...|<a id=\"hotel_addr...|         0|Bosco verticale Home|   0|€ 2 165|Appartement 1 Cha...|\n",
      "|1,5 km du centre|\\nCorso Garibaldi...|Annulation GRATUITE|         Non compris|<div id=\"property...|Centre de Milan, ...|https://www.booki...|<a id=\"hotel_addr...|   4 sur 5|   Urban Hive Milano| 8,5|€ 3 652|      Chambre Double|\n",
      "|3,1 km du centre|\\nVia Mauro Macch...|Annulation GRATUITE|         Non compris|<div id=\"property...|Gare centrale, Milan|https://www.booki...|<a id=\"hotel_addr...|   4 sur 5|Residenza delle C...| 9,2|€ 2 392|              Studio|\n",
      "|1,7 km du centre|\\n52 Corso di Por...|Annulation gratuite|         Non compris|<div id=\"property...|Centre de Milan, ...|https://www.booki...|<a id=\"hotel_addr...|         0|Appartamento in B...| 8,0|€ 2 026|Appartement 1 Cha...|\n",
      "|0,9 km du centre|\\nDifferent Locat...|       Indisponible|         Non compris|<div id=\"property...|Centre de Milan, ...|https://www.booki...|<a id=\"hotel_addr...|   3 sur 5|Brera Apartments ...| 8,5|€ 2 514|Studio - Via Pass...|\n",
      "| 500 m du centre|\\n2 Via Giorgio G...|       Indisponible|         Non compris|<div id=\"property...|Centre de Milan, ...|https://www.booki...|<a id=\"hotel_addr...|   4 sur 5|Imperiale Suites ...| 8,3|€ 4 416|Appartement 1 Cha...|\n",
      "|2,6 km du centre|\\n19 Via Tiziano,...|Annulation gratuite|Petit-déjeuner co...|<div id=\"property...|Fiera Milano City...|https://www.booki...|<a id=\"hotel_addr...|   3 sur 5|Ampio ed incantev...| 8,7|€ 1 812|Appartement 1 Cha...|\n",
      "|2,5 km du centre|\\nCorso Vercelli ...|Annulation GRATUITE|Petit-déjeuner co...|<div id=\"property...|Fiera Milano City...|https://www.booki...|<a id=\"hotel_addr...|   3 sur 5|         Hotel Metrò| 8,4|€ 2 048|Petite Chambre Do...|\n",
      "|1,8 km du centre|\\n2 Via Pontida, ...|Annulation gratuite|         Non compris|<div id=\"property...|Centre de Milan, ...|https://www.booki...|<a id=\"hotel_addr...|   3 sur 5|CENTRO-MOSCOVA Ap...| 8,0|€ 2 230|Appartement 1 Cha...|\n",
      "|1,3 km du centre|\\nVia Orti 4, Cen...|Annulation gratuite|         Non compris|<div id=\"property...|Centre de Milan, ...|https://www.booki...|<a id=\"hotel_addr...|   3 sur 5|Brand new apartme...| 9,5|€ 3 517|         Appartement|\n",
      "|1,1 km du centre|\\n1 Via Boschetti...|Annulation gratuite|         Non compris|<div id=\"property...|Centre de Milan, ...|https://www.booki...|<a id=\"hotel_addr...|   3 sur 5|       ViaBoschetti1| 9,5|€ 2 813|         Appartement|\n",
      "|5,7 km du centre|\\n2 Via Tibullo 1...|Annulation gratuite|         Non compris|<div id=\"property...|      Certosa, Milan|https://www.booki...|<a id=\"hotel_addr...|   4 sur 5|              Marina| 9,7|€ 2 096|Appartement 2 Cha...|\n",
      "|  2 km du centre|\\n56 Alzaia Navig...|Annulation gratuite|         Non compris|<div id=\"property...|      Navigli, Milan|https://www.booki...|<a id=\"hotel_addr...|   3 sur 5|Boutique suite su...|  10|€ 2 260|Appartement 1 Cha...|\n",
      "|  2 km du centre|\\n5 Via Giuseppe ...|Annulation gratuite|         Non compris|<div id=\"property...|     Sempione, Milan|https://www.booki...|<a id=\"hotel_addr...|   3 sur 5|   Mini loft Moscova| 9,2|€ 2 590|Appartement 1 Cha...|\n",
      "|2,8 km du centre|\\nViale Molise 84...|Annulation gratuite|         Non compris|<div id=\"property...|Porta Vittoria, M...|https://www.booki...|<a id=\"hotel_addr...|   4 sur 5|        Piranesi 246| 8,6|€ 2 692|              Studio|\n",
      "+----------------+--------------------+-------------------+--------------------+--------------------+--------------------+--------------------+--------------------+----------+--------------------+----+-------+--------------------+\n",
      "only showing top 20 rows\n",
      "\n"
     ]
    }
   ],
   "source": [
    "#Affichage du dataframe après modification\n",
    "df_booking.show()"
   ]
  },
  {
   "cell_type": "code",
   "execution_count": 17,
   "metadata": {
    "id": "JJLSGjD5ZbVX"
   },
   "outputs": [],
   "source": [
    "#Traitement texte : on choisit de mettre en minuscule la colonne de l'annulation gratuite et breakfast inclus\n",
    "lower_annulation=udf(lambda x: x.lower())\n",
    "df_booking = df_booking.withColumn(\"annulation_gratuite\", lower_annulation(\"annulation_gratuite\"))\n",
    "df_booking = df_booking.withColumn(\"breakfast_inclus\", lower_annulation(\"breakfast_inclus\"))"
   ]
  },
  {
   "cell_type": "markdown",
   "metadata": {
    "id": "40rdEhxJ1599"
   },
   "source": [
    "### Traitement des variables string à travers les REGEX : nettoyage des données pour améliorer leur compréhension "
   ]
  },
  {
   "cell_type": "code",
   "execution_count": 18,
   "metadata": {
    "id": "CQeLsgPMInYe"
   },
   "outputs": [],
   "source": [
    "# Traitement de la colonne nombre d'étoiles : récupération uniquement du nombre d'étoile de l'observation (type d'hébergement)\n",
    "traitement_note = udf(lambda x: int(x[0]), IntegerType())\n",
    "df_booking = df_booking.withColumn(\"nb_etoiles\", traitement_note(\"nb_etoiles\"))\n",
    "\n",
    "#On remplace la virgule par le point et on transforme la note en float\n",
    "note_to_int= udf(lambda x: float(x.replace(\",\", \".\")), FloatType())\n",
    "df_booking = df_booking.withColumn(\"note\", note_to_int(\"note\"))"
   ]
  },
  {
   "cell_type": "code",
   "execution_count": 19,
   "metadata": {
    "id": "5YTXTYD7Nbs0"
   },
   "outputs": [],
   "source": [
    "#Traitement de la colonne prix : on veut garder que les caractères qui sont numériques pour eliminer le symbole de l'euro. Puis on transforme la valeur en integer.\n",
    "traitement_prix=udf(lambda x: ''.join(re.findall(r\"\\d+\", re.sub(\"\\s\", \"\", x))))\n",
    "price_toint=udf(lambda x: int(x), IntegerType())\n",
    "df_booking = df_booking.withColumn(\"prix\", traitement_prix(\"prix\"))\n",
    "df_booking = df_booking.withColumn(\"prix\", price_toint(\"prix\"))"
   ]
  },
  {
   "cell_type": "code",
   "execution_count": 20,
   "metadata": {
    "id": "s1EPHY-D8nMH"
   },
   "outputs": [],
   "source": [
    "#Traitement de la colonne logn_lat : nous avons d'abord traité la colonne pour garder que les valeurs numériques qui répresentaient la latitude et la longitude des hotels.\n",
    "#Ensuite nous avons gardé que les deux premiers argument car c'était ceux qui nous interessaient. Avec cela, nous avons créer deux nouvelles colonnes avec la latitude et la longitude séparement.\n",
    "traitement_long_lat = udf(lambda x: re.findall(r'\\d+\\.\\d+', x))\n",
    "lat_split = udf(lambda x: float(x[0]), FloatType())\n",
    "long_split = udf(lambda x: float(x[1]), FloatType())\n",
    "df_booking = df_booking.withColumn(\"long_lat\", traitement_long_lat(\"long_lat\"))\n",
    "df_booking = df_booking.withColumn(\"lat\", lat_split(\"long_lat\"))\n",
    "df_booking = df_booking.withColumn(\"long\", long_split(\"long_lat\"))\n",
    "#on supprime la colonne qui nous a servi pour créer les deux nouvelles variables \n",
    "df_booking=df_booking.drop(\"long_lat\")"
   ]
  },
  {
   "cell_type": "code",
   "execution_count": 21,
   "metadata": {
    "id": "tF18QT6y-mq6"
   },
   "outputs": [],
   "source": [
    "#Traitement des adresses : au début et à la fin de chaque adresse, il y avait \\n donc nous l'avons remplacé par un espace vide\n",
    "traitement_adresse = udf(lambda x: x.replace(\"\\n\",\"\"))\n",
    "df_booking = df_booking.withColumn(\"adresse\", traitement_adresse(\"adresse\"))"
   ]
  },
  {
   "cell_type": "code",
   "execution_count": 22,
   "metadata": {
    "id": "PW7UM7G-dvsa"
   },
   "outputs": [],
   "source": [
    "#Traitement de la description: on garder le texte qui nous interesse et dans certaines descriptions il y avait une phrase qui proposé une réduction que nous avons enlevé (re.sub)\n",
    "traitement_desc = udf(lambda x: ''.join(re.findall(r\">\\n<p>(.*?)</p>\\n\", re.sub(r\"(Vous.*économiser\\.)\", '', x))))\n",
    "df_booking = df_booking.withColumn(\"description\", traitement_desc(\"description\"))"
   ]
  },
  {
   "cell_type": "code",
   "execution_count": 23,
   "metadata": {
    "colab": {
     "base_uri": "https://localhost:8080/"
    },
    "id": "A7xiiSSKlhLe",
    "outputId": "b979d54e-141d-4de8-b2fe-6bc4c2121b4f"
   },
   "outputs": [
    {
     "name": "stdout",
     "output_type": "stream",
     "text": [
      "+----------------+------------------------------------------------------------------------------+-------------------+----------------------+------------------------------------------------------------------------------------------------------------------------------------------------------------------------------------------------------------------------------------------------------------------------------------------------------------------------------------------------------------------------------------------------------------------------------------------------------------------------------------------------------------------------------------------------------------------------------------------------+------------------------+-----------------------------------------------------------------------------------------------------------------------------------------------------------------------------------------------------------------------------------------------------------------------------------------------------------------------------------------------------------------------------------------------------------------------------------------------------------------------------------------------------------------------------------------------------------------------------------------------------------------------------------------------------------------------------------------------------------------------------------------------+----------+-------------------------------------------------+----+----+------------------------------+---------+--------+\n",
      "|accessibilite   |adresse                                                                       |annulation_gratuite|breakfast_inclus      |description                                                                                                                                                                                                                                                                                                                                                                                                                                                                                                                                                                                     |emplacement             |lien                                                                                                                                                                                                                                                                                                                                                                                                                                                                                                                                                                                                                                                                                                                                           |nb_etoiles|nom                                              |note|prix|type_hebergement              |lat      |long    |\n",
      "+----------------+------------------------------------------------------------------------------+-------------------+----------------------+------------------------------------------------------------------------------------------------------------------------------------------------------------------------------------------------------------------------------------------------------------------------------------------------------------------------------------------------------------------------------------------------------------------------------------------------------------------------------------------------------------------------------------------------------------------------------------------------+------------------------+-----------------------------------------------------------------------------------------------------------------------------------------------------------------------------------------------------------------------------------------------------------------------------------------------------------------------------------------------------------------------------------------------------------------------------------------------------------------------------------------------------------------------------------------------------------------------------------------------------------------------------------------------------------------------------------------------------------------------------------------------+----------+-------------------------------------------------+----+----+------------------------------+---------+--------+\n",
      "|4,1 km du centre|Via Arbe 63, Bicocca - Zara, 20125 Milan, Italie                              |annulation gratuite|non compris           |Implanté à quelques minutes à pied de la station de métro Istria à Milan, le BB Hotels Residenza Bicocca dispose d'un jardin et vous propose des appartements climatisés avec connexion Wi-Fi gratuite. Les parcs des expositions Rho Fiera Milano et Expo 2015 sont accessibles en 25 minutes de route.Vous séjournerez à 15 minutes à pied de la gare et de la station de métro Milano-Centrale, permettant de se rendre dans les aéroports de la ville grâce au service de navette aller-retour. Depuis la station de métro Istria, vous pourrez rejoindre la gare de Milan-Porta Garibaldi. |Bicocca - Zara, Milan   |https://www.booking.com/hotel/it/bb-hotels-residenza-bicocca.fr.html?aid=304142&label=gen173nr-1FCAQoggI4iQRIDVgEaE2IAQGYAQ24AQrIAQXYAQHoAQH4AQOIAgGoAgO4ApfzsJ4GwAIB0gIkNTg3NzA0OWEtM2E4OS00Nzk5LWJiMWItYThmYjFlYjYwODEz2AIF4AIB&ucfs=1&arphpl=1&checkin=2023-08-04&checkout=2023-08-20&dest_id=-121726&dest_type=city&group_adults=2&req_adults=2&no_rooms=1&group_children=0&req_children=0&hpos=26&hapos=26&sr_order=popularity&srpvid=6fb1874b41990121&srepoch=1674328473&all_sr_blocks=56735404_362128532_2_0_0&highlighted_blocks=56735404_362128532_2_0_0&matching_block_id=56735404_362128532_2_0_0&sr_pri_blocks=56735404_362128532_2_0_0__198000&tpi_r=2&from=searchresults#hotelTmpl                                               |3         |BB Hotels Aparthotel Bicocca                     |8.7 |1980|Studio                        |45.500034|9.198904|\n",
      "|50 m du centre  |Passaggio degli Osii 1, Centre de Milan, 20123 Milan, Italie                  |indisponible       |non compris           |Les appartements offrent une vue sur la ville. Ils comprennent une kitchenette entièrement équipée et un coin salon avec un canapé-lit. Un des logements dispose d'une baignoire spa.                                                                                                                                                                                                                                                                                                                                                                                                           |Centre de Milan, Milan  |https://www.booking.com/hotel/it/aparthotel-dei-mercanti.fr.html?aid=304142&label=gen173nr-1FCAQoggI4iQRIDVgEaE2IAQGYAQ24AQrIAQXYAQHoAQH4AQOIAgGoAgO4ApvzsJ4GwAIB0gIkNWExZmY2ZjEtMzFkZS00NmYxLWI5ZWItM2Y5NTg2OTAxMGU02AIF4AIB&ucfs=1&arphpl=1&checkin=2023-08-04&checkout=2023-08-20&dest_id=-121726&dest_type=city&group_adults=2&req_adults=2&no_rooms=1&group_children=0&req_children=0&hpos=25&hapos=50&sr_order=popularity&srpvid=b81b874d3c21011a&srepoch=1674328477&all_sr_blocks=172904107_90334110_2_0_0&highlighted_blocks=172904107_90334110_2_0_0&matching_block_id=172904107_90334110_2_0_0&sr_pri_blocks=172904107_90334110_2_0_0__246300&tpi_r=2&from=searchresults#hotelTmpl                                                   |3         |Aparthotel Dei Mercanti                          |8.8 |2463|Appartement Standard          |45.464363|9.187862|\n",
      "|1,2 km du centre|Via San Vincenzo 18D, Centre de Milan, 20125 Milan, Italie                    |annulation gratuite|petit-déjeuner compris|Doté d'une connexion Wi-Fi gratuite et d'un hébergement climatisé, l'établissement B&amp;B Sant’Agostino se trouve à 700 mètres de la basilique de Saint-Ambroise à Milan.L'église Santa Maria delle Grazie se situe à 15 minutes à pied. En moins de 10 minutes de marche, vous pourrez rejoindre la station de métro Sant’Ambrogio qui dessert la gare Centrale de Milan.                                                                                                                                                                                                                     |Centre de Milan, Milan  |https://www.booking.com/hotel/it/b-amp-b-sant-agostino.fr.html?aid=304142&label=gen173nr-1FCAQoggI4iQRIDVgEaE2IAQGYAQ24AQrIAQXYAQHoAQH4AQOIAgGoAgO4ApvzsJ4GwAIB0gIkNWExZmY2ZjEtMzFkZS00NmYxLWI5ZWItM2Y5NTg2OTAxMGU02AIF4AIB&ucfs=1&arphpl=1&checkin=2023-08-04&checkout=2023-08-20&dest_id=-121726&dest_type=city&group_adults=2&req_adults=2&no_rooms=1&group_children=0&req_children=0&hpos=24&hapos=49&sr_order=popularity&srpvid=b81b874d3c21011a&srepoch=1674328477&all_sr_blocks=64942203_366471835_0_1_0&highlighted_blocks=64942203_366471835_0_1_0&matching_block_id=64942203_366471835_0_1_0&sr_pri_blocks=64942203_366471835_0_1_0__182400&tpi_r=2&from=searchresults#hotelTmpl                                                     |3         |B&B Sant'Agostino                                |7.7 |1824|Chambre Double ou Lits Jumeaux|45.458736|9.175098|\n",
      "|0,8 km du centre|Via Santa Sofia 16, Centre de Milan, 20122 Milan, Italie                      |annulation gratuite|petit-déjeuner compris|L'Hotel Canada se trouve à 500 mètres de la station de métro Crocetta, à 300 mètres de celle Missori et à seulement 1 arrêt de métro du Dôme de Milan. Il vous propose des chambres à la décoration contemporaine, dotées d'une télévision à écran LCD avec les chaînes du bouquet Sky.Lors de votre séjour, vous pourrez profiter d'une connexion Wi-Fi gratuite et d'une réception ouverte 24h/24. Chaque matin, un petit-déjeuner varié vous sera servi dans la salle à manger de l'hôtel.Les parcs des expositions Rho Fiera Milano et Area Expo sont tous deux installés à 16 km.          |Centre de Milan, Milan  |https://www.booking.com/hotel/it/canadamilan.fr.html?aid=304142&label=gen173nr-1FCAQoggI4iQRIDVgEaE2IAQGYAQ24AQrIAQXYAQHoAQH4AQOIAgGoAgO4ApvzsJ4GwAIB0gIkNWExZmY2ZjEtMzFkZS00NmYxLWI5ZWItM2Y5NTg2OTAxMGU02AIF4AIB&ucfs=1&arphpl=1&checkin=2023-08-04&checkout=2023-08-20&dest_id=-121726&dest_type=city&group_adults=2&req_adults=2&no_rooms=1&group_children=0&req_children=0&hpos=23&hapos=48&sr_order=popularity&srpvid=b81b874d3c21011a&srepoch=1674328477&all_sr_blocks=8119103_352566015_2_1_0&highlighted_blocks=8119103_352566015_2_1_0&matching_block_id=8119103_352566015_2_1_0&sr_pri_blocks=8119103_352566015_2_1_0__302180&tpi_r=2&from=searchresults#hotelTmpl                                                                   |3         |Hotel Canada                                     |8.3 |3022|Chambre Double                |45.45731 |9.191093|\n",
      "|2,8 km du centre|35 Via Carlo Farini, Gare Garibaldi, 20159 Milan, Italie                      |annulation gratuite|non compris           |Cet appartement climatisé comprend une chambre, une télévision à écran plat ainsi qu'une cuisine équipée d'un réfrigérateur et d'un four. Les serviettes et le linge de lit sont fournis.                                                                                                                                                                                                                                                                                                                                                                                                       |Gare Garibaldi, Milan   |https://www.booking.com/hotel/it/il-tetto-fiorito-dell-isola.fr.html?aid=304142&label=gen173nr-1FCAQoggI4iQRIDVgEaE2IAQGYAQ24AQrIAQXYAQHoAQH4AQOIAgGoAgO4ApvzsJ4GwAIB0gIkNWExZmY2ZjEtMzFkZS00NmYxLWI5ZWItM2Y5NTg2OTAxMGU02AIF4AIB&ucfs=1&arphpl=1&checkin=2023-08-04&checkout=2023-08-20&dest_id=-121726&dest_type=city&group_adults=2&req_adults=2&no_rooms=1&group_children=0&req_children=0&hpos=22&hapos=47&sr_order=popularity&srpvid=b81b874d3c21011a&srepoch=1674328477&all_sr_blocks=871724401_355866161_2_0_0&highlighted_blocks=871724401_355866161_2_0_0&matching_block_id=871724401_355866161_2_0_0&sr_pri_blocks=871724401_355866161_2_0_0__122200&tpi_r=2&from=searchresults#hotelTmpl                                           |3         |Il tetto fiorito dell'Isola                      |8.4 |1222|Appartement 1 Chambre         |45.489586|9.183012|\n",
      "|2,3 km du centre|8 Via Gaetano de Castillia, Gare Garibaldi, 20124 Milan, Italie               |annulation gratuite|non compris           |Bosco verticale Home is set in the Stazione Garibaldi - Porta Nuova district of Milan, 100 metres from Bosco Verticale, 1.2 km from Centrale Metro Station and 1.9 km from Arena Civica. This apartment is 3.6 km from Villa Necchi Campiglio and 3.6 km from Sforzesco Castle.Brera Art Gallery is 1.9 km from the apartment, while GAM Milano is 3.3 km away. The nearest airport is Milan Linate Airport, 10 km from Bosco verticale Home.                                                                                                                                                   |Gare Garibaldi, Milan   |https://www.booking.com/hotel/it/bosco-verticale-home.fr.html?aid=304142&label=gen173nr-1FCAQoggI4iQRIDVgEaE2IAQGYAQ24AQrIAQXYAQHoAQH4AQOIAgGoAgO4ApvzsJ4GwAIB0gIkNWExZmY2ZjEtMzFkZS00NmYxLWI5ZWItM2Y5NTg2OTAxMGU02AIF4AIB&ucfs=1&arphpl=1&checkin=2023-08-04&checkout=2023-08-20&dest_id=-121726&dest_type=city&group_adults=2&req_adults=2&no_rooms=1&group_children=0&req_children=0&hpos=21&hapos=46&sr_order=popularity&srpvid=b81b874d3c21011a&srepoch=1674328477&all_sr_blocks=941370101_366373397_2_0_0&highlighted_blocks=941370101_366373397_2_0_0&matching_block_id=941370101_366373397_2_0_0&sr_pri_blocks=941370101_366373397_2_0_0__216480&tpi_r=2&from=searchresults#hotelTmpl                                                  |0         |Bosco verticale Home                             |0.0 |2165|Appartement 1 Chambre         |45.48527 |9.189528|\n",
      "|1,5 km du centre|Corso Garibaldi 84, Centre de Milan, 20121 Milan, Italie                      |annulation gratuite|non compris           |Offering free WiFi, rooms at the Urban Hive Milano Hotel come with a satellite flat-screen TV, minibar and wooden floors. The private bathroom is complete with a hairdryer and free toiletries.                                                                                                                                                                                                                                                                                                                                                                                                |Centre de Milan, Milan  |https://www.booking.com/hotel/it/carlyle.fr.html?aid=304142&label=gen173nr-1FCAQoggI4iQRIDVgEaE2IAQGYAQ24AQrIAQXYAQHoAQH4AQOIAgGoAgO4ApvzsJ4GwAIB0gIkNWExZmY2ZjEtMzFkZS00NmYxLWI5ZWItM2Y5NTg2OTAxMGU02AIF4AIB&ucfs=1&arphpl=1&checkin=2023-08-04&checkout=2023-08-20&dest_id=-121726&dest_type=city&group_adults=2&req_adults=2&no_rooms=1&group_children=0&req_children=0&hpos=20&hapos=45&sr_order=popularity&srpvid=b81b874d3c21011a&srepoch=1674328477&all_sr_blocks=8035405_195710243_0_2_0&highlighted_blocks=8035405_195710243_0_2_0&matching_block_id=8035405_195710243_0_2_0&sr_pri_blocks=8035405_195710243_0_2_0__365200&tpi_r=2&from_sustainable_property_sr=1&from=searchresults#hotelTmpl                                        |4         |Urban Hive Milano                                |8.5 |3652|Chambre Double                |45.477116|9.184461|\n",
      "|3,1 km du centre|Via Mauro Macchi 79, Gare centrale, 20124 Milan, Italie                       |annulation gratuite|non compris           |The spacious, modern suites and apartments feature wood floors and marble bathrooms. Breakfast and shopping from the local supermarket can be delivered.Residenza delle Città features a new fitness centre, and a terrace furnished with tables and chairs. The laundry room is equipped with washing machines and clothes dryer.                                                                                                                                                                                                                                                              |Gare centrale, Milan    |https://www.booking.com/hotel/it/residenza-delle-citta.fr.html?aid=304142&label=gen173nr-1FCAQoggI4iQRIDVgEaE2IAQGYAQ24AQrIAQXYAQHoAQH4AQOIAgGoAgO4ApvzsJ4GwAIB0gIkNWExZmY2ZjEtMzFkZS00NmYxLWI5ZWItM2Y5NTg2OTAxMGU02AIF4AIB&ucfs=1&arphpl=1&checkin=2023-08-04&checkout=2023-08-20&dest_id=-121726&dest_type=city&group_adults=2&req_adults=2&no_rooms=1&group_children=0&req_children=0&hpos=19&hapos=44&sr_order=popularity&srpvid=b81b874d3c21011a&srepoch=1674328477&all_sr_blocks=4270803_145423634_0_0_0&highlighted_blocks=4270803_145423634_0_0_0&matching_block_id=4270803_145423634_0_0_0&sr_pri_blocks=4270803_145423634_0_0_0__239240&tpi_r=2&from_sustainable_property_sr=1&from=searchresults#hotelTmpl                          |4         |Residenza delle Città                            |9.2 |2392|Studio                        |45.48791 |9.210752|\n",
      "|1,7 km du centre|52 Corso di Porta Nuova, Centre de Milan, 20121 Milan, Italie                 |annulation gratuite|non compris           |Ideally situated in the centre of Milan, Appartamento in Brera-Milano offers a balcony. Guests staying at this apartment have access to free WiFi and a patio.Popular points of interest near the apartment include Centrale Metro Station, Brera Art Gallery and Bosco Verticale. The nearest airport is Milan Linate Airport, 8 km from Appartamento in Brera-Milano.                                                                                                                                                                                                                         |Centre de Milan, Milan  |https://www.booking.com/hotel/it/appartamento-in-brera-milano.fr.html?aid=304142&label=gen173nr-1FCAQoggI4iQRIDVgEaE2IAQGYAQ24AQrIAQXYAQHoAQH4AQOIAgGoAgO4ApvzsJ4GwAIB0gIkNWExZmY2ZjEtMzFkZS00NmYxLWI5ZWItM2Y5NTg2OTAxMGU02AIF4AIB&ucfs=1&arphpl=1&checkin=2023-08-04&checkout=2023-08-20&dest_id=-121726&dest_type=city&group_adults=2&req_adults=2&no_rooms=1&group_children=0&req_children=0&hpos=18&hapos=43&sr_order=popularity&srpvid=b81b874d3c21011a&srepoch=1674328477&all_sr_blocks=943036001_367250984_2_0_0&highlighted_blocks=943036001_367250984_2_0_0&matching_block_id=943036001_367250984_2_0_0&sr_pri_blocks=943036001_367250984_2_0_0__202608&tpi_r=2&from_sustainable_property_sr=1&from=searchresults#hotelTmpl           |0         |Appartamento in Brera-Milano                     |8.0 |2026|Appartement 1 Chambre         |45.478947|9.192503|\n",
      "|0,9 km du centre|Different Locations in Milan City Centre, Centre de Milan, 20122 Milan, Italie|indisponible       |non compris           |Les studios et les appartements présentent une décoration soignée, avec un mobilier raffiné. Ils possèdent une confortable pièce à vivre. La salle de bains est pourvue d'une douche, d'articles de toilette gratuits et d'un sèche-cheveux.                                                                                                                                                                                                                                                                                                                                                    |Centre de Milan, Milan  |https://www.booking.com/hotel/it/brera-apartments-in-san-babila.fr.html?aid=304142&label=gen173nr-1FCAQoggI4iQRIDVgEaE2IAQGYAQ24AQrIAQXYAQHoAQH4AQOIAgGoAgO4ApvzsJ4GwAIB0gIkNWExZmY2ZjEtMzFkZS00NmYxLWI5ZWItM2Y5NTg2OTAxMGU02AIF4AIB&ucfs=1&arphpl=1&checkin=2023-08-04&checkout=2023-08-20&dest_id=-121726&dest_type=city&group_adults=2&req_adults=2&no_rooms=1&group_children=0&req_children=0&hpos=17&hapos=42&sr_order=popularity&srpvid=b81b874d3c21011a&srepoch=1674328477&all_sr_blocks=106267107_88400509_0_0_0&highlighted_blocks=106267107_88400509_0_0_0&matching_block_id=106267107_88400509_0_0_0&sr_pri_blocks=106267107_88400509_0_0_0__251400&tpi_r=2&from_sustainable_property_sr=1&from=searchresults#hotelTmpl             |3         |Brera Apartments in San Babila                   |8.5 |2514|Studio - Via Passarella 4     |45.467075|9.200135|\n",
      "|500 m du centre |2 Via Giorgio Giulini, Centre de Milan, 20123 Milan, Italie                   |indisponible       |non compris           |Situé à Milan, à 500 mètres du château des Sforza et à 400 mètres du centre, l'Imperiale Suites Milano propose des hébergements climatisés avec connexion Wi-Fi gratuite et un bar. Un parking privé est disponible sur place.Cet appart'hôtel sert un petit-déjeuner italien.                                                                                                                                                                                                                                                                                                                  |Centre de Milan, Milan  |https://www.booking.com/hotel/it/imperiale-suites-milano.fr.html?aid=304142&label=gen173nr-1FCAQoggI4iQRIDVgEaE2IAQGYAQ24AQrIAQXYAQHoAQH4AQOIAgGoAgO4ApvzsJ4GwAIB0gIkNWExZmY2ZjEtMzFkZS00NmYxLWI5ZWItM2Y5NTg2OTAxMGU02AIF4AIB&ucfs=1&arphpl=1&checkin=2023-08-04&checkout=2023-08-20&dest_id=-121726&dest_type=city&group_adults=2&req_adults=2&no_rooms=1&group_children=0&req_children=0&hpos=16&hapos=41&sr_order=popularity&srpvid=b81b874d3c21011a&srepoch=1674328477&all_sr_blocks=784452101_337944261_2_2_0&highlighted_blocks=784452101_337944261_2_2_0&matching_block_id=784452101_337944261_2_2_0&sr_pri_blocks=784452101_337944261_2_2_0__441600&tpi_r=2&from_sustainable_property_sr=1&from=searchresults#hotelTmpl                |4         |Imperiale Suites Milano                          |8.3 |4416|Appartement 1 Chambre         |45.466908|9.183623|\n",
      "|2,6 km du centre|19 Via Tiziano, Fiera Milano City, 20145 Milan, Italie                        |annulation gratuite|petit-déjeuner compris|Doté d'un jardin, l'Ampio ed incantevole monolocale a CityLife est situé à Milan, à 800 mètres de CityLife, à 1,4 km de la Cène et à 1,5 km de Santa Maria delle Grazie. Cet appartement se trouve à 3,2 km du château des Sforza et à 3,3 km de La Scala.Un petit-déjeuner italien est servi sur place.                                                                                                                                                                                                                                                                                        |Fiera Milano City, Milan|https://www.booking.com/hotel/it/ampio-ed-incantevole-monolocale-a-citylife.fr.html?aid=304142&label=gen173nr-1FCAQoggI4iQRIDVgEaE2IAQGYAQ24AQrIAQXYAQHoAQH4AQOIAgGoAgO4ApvzsJ4GwAIB0gIkNWExZmY2ZjEtMzFkZS00NmYxLWI5ZWItM2Y5NTg2OTAxMGU02AIF4AIB&ucfs=1&arphpl=1&checkin=2023-08-04&checkout=2023-08-20&dest_id=-121726&dest_type=city&group_adults=2&req_adults=2&no_rooms=1&group_children=0&req_children=0&hpos=15&hapos=40&sr_order=popularity&srpvid=b81b874d3c21011a&srepoch=1674328477&all_sr_blocks=771455801_335012750_2_1_0&highlighted_blocks=771455801_335012750_2_1_0&matching_block_id=771455801_335012750_2_1_0&sr_pri_blocks=771455801_335012750_2_1_0__181200&tpi_r=2&from=searchresults#hotelTmpl                            |3         |Ampio ed incantevole monolocale a CityLife       |8.7 |1812|Appartement 1 Chambre         |45.472805|9.158301|\n",
      "|2,5 km du centre|Corso Vercelli 61, Fiera Milano City, 20144 Milan, Italie                     |annulation gratuite|petit-déjeuner compris|L’Hotel Metrò est installé dans un bâtiment Liberty, à quelques minutes de marche de la station de métro Wagner. Le Dôme de Milan est desservi par la même ligne.Vous séjournerez à 11 km du parc des expositions Rho Fiera.                                                                                                                                                                                                                                                                                                                                                                    |Fiera Milano City, Milan|https://www.booking.com/hotel/it/metro-milano.fr.html?aid=304142&label=gen173nr-1FCAQoggI4iQRIDVgEaE2IAQGYAQ24AQrIAQXYAQHoAQH4AQOIAgGoAgO4ApvzsJ4GwAIB0gIkNWExZmY2ZjEtMzFkZS00NmYxLWI5ZWItM2Y5NTg2OTAxMGU02AIF4AIB&ucfs=1&arphpl=1&checkin=2023-08-04&checkout=2023-08-20&dest_id=-121726&dest_type=city&group_adults=2&req_adults=2&no_rooms=1&group_children=0&req_children=0&hpos=14&hapos=39&sr_order=popularity&srpvid=b81b874d3c21011a&srepoch=1674328477&all_sr_blocks=24570609_363528602_0_1_0&highlighted_blocks=24570609_363528602_0_1_0&matching_block_id=24570609_363528602_0_1_0&sr_pri_blocks=24570609_363528602_0_1_0__204800&tpi_r=2&from=searchresults#hotelTmpl                                                              |3         |Hotel Metrò                                      |8.4 |2048|Petite Chambre Double         |45.466698|9.156676|\n",
      "|1,8 km du centre|2 Via Pontida, Centre de Milan, 20121 Milan, Italie                           |annulation gratuite|non compris           |Cet appartement climatisé comprend une chambre ainsi qu'une salle de bains pourvue d'un bidet, d'une douche et d'articles de toilette gratuits. La cuisine est équipée d'un réfrigérateur, de plaques de cuisson et d'une machine à café.                                                                                                                                                                                                                                                                                                                                                       |Centre de Milan, Milan  |https://www.booking.com/hotel/it/appartamento-incantevole-milano-moscova.fr.html?aid=304142&label=gen173nr-1FCAQoggI4iQRIDVgEaE2IAQGYAQ24AQrIAQXYAQHoAQH4AQOIAgGoAgO4ApvzsJ4GwAIB0gIkNWExZmY2ZjEtMzFkZS00NmYxLWI5ZWItM2Y5NTg2OTAxMGU02AIF4AIB&ucfs=1&arphpl=1&checkin=2023-08-04&checkout=2023-08-20&dest_id=-121726&dest_type=city&group_adults=2&req_adults=2&no_rooms=1&group_children=0&req_children=0&hpos=13&hapos=38&sr_order=popularity&srpvid=b81b874d3c21011a&srepoch=1674328477&all_sr_blocks=840743201_350772771_2_0_0&highlighted_blocks=840743201_350772771_2_0_0&matching_block_id=840743201_350772771_2_0_0&sr_pri_blocks=840743201_350772771_2_0_0__222960&tpi_r=2&from_sustainable_property_sr=1&from=searchresults#hotelTmpl|3         |CENTRO-MOSCOVA Appartamento Incantevole Free WiFi|8.0 |2230|Appartement 1 Chambre         |45.47996 |9.182971|\n",
      "|1,3 km du centre|Via Orti 4, Centre de Milan, 20122 Milan, Italie                              |annulation gratuite|non compris           |Tous les logements comprennent une cuisine entièrement équipée où vous pourrez préparer vos repas. Vous pourrez profiter d'un lave-vaisselle, d'un micro-ondes et d'une machine à café.                                                                                                                                                                                                                                                                                                                                                                                                         |Centre de Milan, Milan  |https://www.booking.com/hotel/it/ortiquattro.fr.html?aid=304142&label=gen173nr-1FCAQoggI4iQRIDVgEaE2IAQGYAQ24AQrIAQXYAQHoAQH4AQOIAgGoAgO4ApvzsJ4GwAIB0gIkNWExZmY2ZjEtMzFkZS00NmYxLWI5ZWItM2Y5NTg2OTAxMGU02AIF4AIB&ucfs=1&arphpl=1&checkin=2023-08-04&checkout=2023-08-20&dest_id=-121726&dest_type=city&group_adults=2&req_adults=2&no_rooms=1&group_children=0&req_children=0&hpos=12&hapos=37&sr_order=popularity&srpvid=b81b874d3c21011a&srepoch=1674328477&all_sr_blocks=464763701_346714678_2_0_0&highlighted_blocks=464763701_346714678_2_0_0&matching_block_id=464763701_346714678_2_0_0&sr_pri_blocks=464763701_346714678_2_0_0__351720&tpi_r=2&from_sustainable_property_sr=1&from=searchresults#hotelTmpl                            |3         |Brand new apartments Ortiquattro                 |9.5 |3517|Appartement                   |45.454876|9.199131|\n",
      "|1,1 km du centre|1 Via Boschetti, Centre de Milan, 20121 Milan, Italie                         |annulation gratuite|non compris           |Situé dans le centre de Milan, à 400 mètres du GAM Milano et à 300 mètres de la Villa Necchi Campiglio, le ViaBoschetti1 propose une connexion Wi-Fi gratuite. Cet appartement se trouve à 1 km de la Galleria Vittorio Emanuele et à 1,2 km de la place du Dôme.Vous séjournerez à proximité de la galerie d'art de Brera, de la station de métro San Babila et de la station de métro Montenapoleone. L'aéroport de Milan-Linate, le plus proche, est implanté à 8 km.                                                                                                                        |Centre de Milan, Milan  |https://www.booking.com/hotel/it/viaboschetti1.fr.html?aid=304142&label=gen173nr-1FCAQoggI4iQRIDVgEaE2IAQGYAQ24AQrIAQXYAQHoAQH4AQOIAgGoAgO4ApvzsJ4GwAIB0gIkNWExZmY2ZjEtMzFkZS00NmYxLWI5ZWItM2Y5NTg2OTAxMGU02AIF4AIB&ucfs=1&arphpl=1&checkin=2023-08-04&checkout=2023-08-20&dest_id=-121726&dest_type=city&group_adults=2&req_adults=2&no_rooms=1&group_children=0&req_children=0&hpos=11&hapos=36&sr_order=popularity&srpvid=b81b874d3c21011a&srepoch=1674328477&all_sr_blocks=552981501_214639645_2_0_0&highlighted_blocks=552981501_214639645_2_0_0&matching_block_id=552981501_214639645_2_0_0&sr_pri_blocks=552981501_214639645_2_0_0__281320&tpi_r=2&from_sustainable_property_sr=1&from=searchresults#hotelTmpl                          |3         |ViaBoschetti1                                    |9.5 |2813|Appartement                   |45.47019 |9.20017 |\n",
      "|5,7 km du centre|2 Via Tibullo 1 piano, Certosa, 20151 Milan, Italie                           |annulation gratuite|non compris           |Situé à Milan, à 2,1 km du parc des expositions Fiera Milano City et à 2,3 km du stade San Siro, le Marina propose un hébergement climatisé avec une terrasse et une connexion Wi-Fi gratuite. Cet appartement se trouve à 4,3 km de l'Arena Civica et à 5 km de l'hôpital Niguarda.Vous séjournerez à 2,9 km du CityLife et à 3,9 km du cimetière monumental. L'aéroport de Milan-Linate, le plus proche, est implanté à 12 km.                                                                                                                                                                |Certosa, Milan          |https://www.booking.com/hotel/it/marina-milano.fr.html?aid=304142&label=gen173nr-1FCAQoggI4iQRIDVgEaE2IAQGYAQ24AQrIAQXYAQHoAQH4AQOIAgGoAgO4ApvzsJ4GwAIB0gIkNWExZmY2ZjEtMzFkZS00NmYxLWI5ZWItM2Y5NTg2OTAxMGU02AIF4AIB&ucfs=1&arphpl=1&checkin=2023-08-04&checkout=2023-08-20&dest_id=-121726&dest_type=city&group_adults=2&req_adults=2&no_rooms=1&group_children=0&req_children=0&hpos=9&hapos=34&sr_order=popularity&srpvid=b81b874d3c21011a&srepoch=1674328477&all_sr_blocks=860937101_356975677_4_0_0&highlighted_blocks=860937101_356975677_4_0_0&matching_block_id=860937101_356975677_4_0_0&sr_pri_blocks=860937101_356975677_4_0_0__209600&tpi_r=2&from=searchresults#hotelTmpl                                                          |4         |Marina                                           |9.7 |2096|Appartement 2 Chambres        |45.49796 |9.133323|\n",
      "|2 km du centre  |56 Alzaia Naviglio Grande, Navigli, 20144 Milan, Italie                       |annulation gratuite|non compris           |Situé à Milan, à 1 km de Darsena et à 1,3 km du MUDEC, Le Monolocale con doppio affaccio sul Naviglio Grande propose une connexion Wi-Fi gratuite et la climatisation. Il se trouve à 2,7 km de la Cène et du palais royal.Santa Maria delle Grazie se trouve à 2,5 km du Monolocale con doppio affaccio sul Naviglio Grande, tandis que San Maurizio al Monastero Maggiore est à 2,7 km. L'aéroport de Milan-Linate, le plus proche, est implanté à 10 km.                                                                                                                                     |Navigli, Milan          |https://www.booking.com/hotel/it/monolocale-con-doppio-affaccio-sul-naviglio-grande.fr.html?aid=304142&label=gen173nr-1FCAQoggI4iQRIDVgEaE2IAQGYAQ24AQrIAQXYAQHoAQH4AQOIAgGoAgO4ApvzsJ4GwAIB0gIkNWExZmY2ZjEtMzFkZS00NmYxLWI5ZWItM2Y5NTg2OTAxMGU02AIF4AIB&ucfs=1&arphpl=1&checkin=2023-08-04&checkout=2023-08-20&dest_id=-121726&dest_type=city&group_adults=2&req_adults=2&no_rooms=1&group_children=0&req_children=0&hpos=8&hapos=33&sr_order=popularity&srpvid=b81b874d3c21011a&srepoch=1674328477&all_sr_blocks=925307201_364332789_2_0_0&highlighted_blocks=925307201_364332789_2_0_0&matching_block_id=925307201_364332789_2_0_0&sr_pri_blocks=925307201_364332789_2_0_0__226000&tpi_r=2&from=searchresults#hotelTmpl                     |3         |Boutique suite sul Naviglio Grande               |10.0|2260|Appartement 1 Chambre         |45.451046|9.170558|\n",
      "|2 km du centre  |5 Via Giuseppe Giusti, Sempione, 20154 Milan, Italie                          |annulation gratuite|non compris           |Cet appartement avec vue sur la ville dispose de parquet, d'une chambre et d'une salle de bains avec bidet, douche et peignoirs. Les serviettes et le linge de lit sont fournis.                                                                                                                                                                                                                                                                                                                                                                                                                |Sempione, Milan         |https://www.booking.com/hotel/it/mini-loft-moscova.fr.html?aid=304142&label=gen173nr-1FCAQoggI4iQRIDVgEaE2IAQGYAQ24AQrIAQXYAQHoAQH4AQOIAgGoAgO4ApvzsJ4GwAIB0gIkNWExZmY2ZjEtMzFkZS00NmYxLWI5ZWItM2Y5NTg2OTAxMGU02AIF4AIB&ucfs=1&arphpl=1&checkin=2023-08-04&checkout=2023-08-20&dest_id=-121726&dest_type=city&group_adults=2&req_adults=2&no_rooms=1&group_children=0&req_children=0&hpos=7&hapos=32&sr_order=popularity&srpvid=b81b874d3c21011a&srepoch=1674328477&all_sr_blocks=483520901_360671357_2_0_0&highlighted_blocks=483520901_360671357_2_0_0&matching_block_id=483520901_360671357_2_0_0&sr_pri_blocks=483520901_360671357_2_0_0__258960&tpi_r=2&from_sustainable_property_sr=1&from=searchresults#hotelTmpl                       |3         |Mini loft Moscova                                |9.2 |2590|Appartement 1 Chambre         |45.48036 |9.178725|\n",
      "|2,8 km du centre|Viale Molise 84, Porta Vittoria, 20137 Milan, Italie                          |annulation gratuite|non compris           |Tous les logements comprennent une télévision par satellite à écran plat ainsi qu'une cuisine entièrement équipée avec une table à manger. Leur salle de bains privative est pourvue d'un bidet, d'articles de toilette gratuits et d'un sèche-cheveux. Un réfrigérateur, un lave-vaisselle, un micro-ondes, une machine à café et une bouilloire sont également disponibles.Le Piranesi 246 se trouve à 3 km de la Villa Necchi Campiglio et du palais royal. L'aéroport de Milan-Linate, le plus proche, est implanté à 5 km.                                                                 |Porta Vittoria, Milan   |https://www.booking.com/hotel/it/piranesi-246.fr.html?aid=304142&label=gen173nr-1FCAQoggI4iQRIDVgEaE2IAQGYAQ24AQrIAQXYAQHoAQH4AQOIAgGoAgO4ApvzsJ4GwAIB0gIkNWExZmY2ZjEtMzFkZS00NmYxLWI5ZWItM2Y5NTg2OTAxMGU02AIF4AIB&ucfs=1&arphpl=1&checkin=2023-08-04&checkout=2023-08-20&dest_id=-121726&dest_type=city&group_adults=2&req_adults=2&no_rooms=1&group_children=0&req_children=0&hpos=6&hapos=31&sr_order=popularity&srpvid=b81b874d3c21011a&srepoch=1674328477&all_sr_blocks=340652502_327162484_2_0_0&highlighted_blocks=340652502_327162484_2_0_0&matching_block_id=340652502_327162484_2_0_0&sr_pri_blocks=340652502_327162484_2_0_0__269200&tpi_r=2&from_sustainable_property_sr=1&from=searchresults#hotelTmpl                            |4         |Piranesi 246                                     |8.6 |2692|Studio                        |45.46048 |9.224387|\n",
      "+----------------+------------------------------------------------------------------------------+-------------------+----------------------+------------------------------------------------------------------------------------------------------------------------------------------------------------------------------------------------------------------------------------------------------------------------------------------------------------------------------------------------------------------------------------------------------------------------------------------------------------------------------------------------------------------------------------------------------------------------------------------------+------------------------+-----------------------------------------------------------------------------------------------------------------------------------------------------------------------------------------------------------------------------------------------------------------------------------------------------------------------------------------------------------------------------------------------------------------------------------------------------------------------------------------------------------------------------------------------------------------------------------------------------------------------------------------------------------------------------------------------------------------------------------------------+----------+-------------------------------------------------+----+----+------------------------------+---------+--------+\n",
      "only showing top 20 rows\n",
      "\n"
     ]
    }
   ],
   "source": [
    "#Affichage du dataframe\n",
    "df_booking.show(truncate=False)"
   ]
  },
  {
   "cell_type": "code",
   "execution_count": 24,
   "metadata": {
    "colab": {
     "base_uri": "https://localhost:8080/"
    },
    "id": "TAyJy7Aa7kSd",
    "outputId": "7e752ff2-4f6e-43a9-d239-8ccbfd18a5f3"
   },
   "outputs": [
    {
     "name": "stdout",
     "output_type": "stream",
     "text": [
      "+----------------------------------------------------------+-----+\n",
      "|type_hebergement                                          |count|\n",
      "+----------------------------------------------------------+-----+\n",
      "|Appartement Standard                                      |6    |\n",
      "|Studio A Ajraghi                                          |1    |\n",
      "|Maison 1 Chambre                                          |2    |\n",
      "|Chambre Double                                            |45   |\n",
      "|Chambre Double Deluxe avec Balcon                         |2    |\n",
      "|Appartement                                               |49   |\n",
      "|Chambre Double Supérieure                                 |9    |\n",
      "|Appartement Supérieur 1 Chambre                           |1    |\n",
      "|Appartement 1 Chambre - Via Ceresio 3                     |1    |\n",
      "| Chambre Double                                           |1    |\n",
      "|Chambre Double Deluxe                                     |6    |\n",
      "|Studio                                                    |53   |\n",
      "|Chambre Double ou Lits Jumeaux                            |8    |\n",
      "|Loft Économique                                           |1    |\n",
      "|Suite Junior Classique Double                             |1    |\n",
      "|Chambre Lits Jumeaux Classique                            |2    |\n",
      "|Chambre Deluxe Double ou Lits Jumeaux                     |3    |\n",
      "|Chambre Lits Jumeaux                                      |12   |\n",
      "|Appartement 2 Chambres                                    |67   |\n",
      "|Appartement - Rez-de-Chaussée                             |3    |\n",
      "|Loft                                                      |3    |\n",
      "|Suite                                                     |6    |\n",
      "|Chambre Double Économique                                 |5    |\n",
      "|Chambre Double ou Lits Jumeaux avec Salle de Bains Commune|2    |\n",
      "|Chambre Double Deluxe avec Vue sur Château                |1    |\n",
      "|Chambre Double King-Size Classique                        |1    |\n",
      "|Chambre Double avec Salle de Bains Privative              |8    |\n",
      "|Penthouse                                                 |3    |\n",
      "|Studio - Deuxième Étage                                   |1    |\n",
      "|Chambre Double Classique                                  |3    |\n",
      "|Chambre Double avec 2 Lits Doubles                        |1    |\n",
      "|Studio avec Balcon                                        |2    |\n",
      "|Chambre Lit King-Size Supérieure avec Canapé-Lit          |1    |\n",
      "|Studio Supérieur                                          |1    |\n",
      "|Studio - Via Passarella 4                                 |1    |\n",
      "|Appartement 2 Chambres avec Terrasse                      |1    |\n",
      "|Studio Lit King-Size                                      |1    |\n",
      "|Chambre Premium                                           |1    |\n",
      "|Chambre Deluxe                                            |3    |\n",
      "|Appartement 1 Chambre                                     |357  |\n",
      "|Chambre Lit Queen-Size Deluxe                             |1    |\n",
      "|Chambre Standard Lit Queen-Size                           |1    |\n",
      "|Chambre Lits Jumeaux avec Kitchenette                     |1    |\n",
      "|Appartement en Duplex                                     |3    |\n",
      "|Chambre Double ou Lits Jumeaux Classique                  |4    |\n",
      "|Chambre Double Standard                                   |8    |\n",
      "|Appartement avec Balcon                                   |9    |\n",
      "|Chambre Classique                                         |1    |\n",
      "|Chambre Double ou Lits Jumeaux Standard                   |5    |\n",
      "|Studio Deluxe                                             |3    |\n",
      "|Appartement 1 Chambre avec Balcon                         |1    |\n",
      "|Appartement 3 Chambres                                    |5    |\n",
      "|Chambre Triple                                            |1    |\n",
      "|Studio Duplex                                             |1    |\n",
      "|Appartement Familial                                      |1    |\n",
      "|Appartement Supérieur                                     |12   |\n",
      "|Appartement avec Douche                                   |1    |\n",
      "|Appartement 1 Chambre - Duplex                            |1    |\n",
      "|Maison de Vacances                                        |1    |\n",
      "|Chambre Double Affaires                                   |1    |\n",
      "|Studio avec Canapé-Lit                                    |1    |\n",
      "|Chambre Double avec Kitchenette                           |1    |\n",
      "|Chambre Double ou Lits Jumeaux Supérieure                 |8    |\n",
      "|Chambre Double Classique avec Lit King-Size               |1    |\n",
      "|Appartement 1 Chambre (2 Adultes)                         |1    |\n",
      "|Chambre Simple                                            |1    |\n",
      "|Studio Standard                                           |3    |\n",
      "|Appartement Deluxe                                        |11   |\n",
      "|Appartement 1                                             |1    |\n",
      "|Studio Lit King-Size Deluxe                               |4    |\n",
      "|Petite Chambre Double                                     |3    |\n",
      "|Chambre Double Confort                                    |1    |\n",
      "|Chambre Quadruple Classique                               |1    |\n",
      "|Chambre Double Exécutive                                  |1    |\n",
      "|Suite Junior avec Balcon                                  |1    |\n",
      "|Chambre Double avec Petit Lit Double \\n\\n                 |1    |\n",
      "|Chambre Lits Jumeaux Standard                             |1    |\n",
      "|Chambre Double - Vue sur Jardin                           |1    |\n",
      "|Chambre Lits Jumeaux avec Balcon                          |1    |\n",
      "|Suite Standard                                            |1    |\n",
      "|Studio avec mezzanine                                     |1    |\n",
      "|Chambre Attribuée à l&#39;Arrivée                         |1    |\n",
      "|Chambre Lit King-Size                                     |1    |\n",
      "|Appartement avec Terrasse                                 |3    |\n",
      "|Chambre Double ou Lits Jumeaux Économique                 |1    |\n",
      "|Maisonnette                                               |1    |\n",
      "|Suite - Piazza Santo Stefano 6                            |1    |\n",
      "|Chambre Lits Jumeaux Deluxe                               |1    |\n",
      "|Maison 3 Chambres                                         |1    |\n",
      "|Maison 2 Chambres                                         |1    |\n",
      "|Chambre Aura                                              |1    |\n",
      "|Appartement 1 Chambre - Via Aurispa 2                     |1    |\n",
      "|Chambre Lit King-Size Supérieure                          |2    |\n",
      "|Suite Deluxe avec Lit King-Size                           |1    |\n",
      "|Chambre Double avec Balcon                                |2    |\n",
      "|Chambre Double Standard                                   |1    |\n",
      "|Studio Deluxe - Piazza Santo Stefano 6                    |1    |\n",
      "+----------------------------------------------------------+-----+\n",
      "\n"
     ]
    }
   ],
   "source": [
    "#On a crée un dataframe qui nous permet de voir les occurrences de chaque type d'hebergement \n",
    "type_hebergement_count = df_booking.groupBy(\"type_hebergement\").count()\n",
    "type_hebergement_count.show(100, truncate=False)"
   ]
  },
  {
   "cell_type": "markdown",
   "metadata": {
    "id": "X9g_4xkJih7l"
   },
   "source": [
    "Nous pouvons constater que les type d'hébergement sont similaire mais avec une déscription différente. C'est pour cela que nous allons regrouper les type d'hébergement pour avoir une distribution homogène."
   ]
  },
  {
   "cell_type": "code",
   "execution_count": 25,
   "metadata": {
    "colab": {
     "base_uri": "https://localhost:8080/"
    },
    "id": "xwUANNlOjA6o",
    "outputId": "84954f89-d45d-49be-b03f-87cbfe27c09b"
   },
   "outputs": [
    {
     "name": "stdout",
     "output_type": "stream",
     "text": [
      "+-------------------------+-----+\n",
      "|emplacement              |count|\n",
      "+-------------------------+-----+\n",
      "|San Siro, Milan          |35   |\n",
      "|Certosa, Milan           |14   |\n",
      "|Famagosta, Milan         |13   |\n",
      "|Bovisa, Milan            |7    |\n",
      "|Porta Vittoria, Milan    |35   |\n",
      "|Navigli, Milan           |72   |\n",
      "|Centre de Milan, Milan   |214  |\n",
      "|Porta Romana, Milan      |21   |\n",
      "|Gare centrale, Milan     |89   |\n",
      "|Lorenteggio, Milan       |9    |\n",
      "|Città Studi, Milan       |53   |\n",
      "|Ripamonti Corvetto, Milan|22   |\n",
      "|Gare Garibaldi, Milan    |25   |\n",
      "|Milan banlieu            |42   |\n",
      "|Niguarda, Milan          |13   |\n",
      "|Viale Monza, Milan       |28   |\n",
      "|Fiera Milano City, Milan |49   |\n",
      "|Sempione, Milan          |29   |\n",
      "|Bicocca - Zara, Milan    |31   |\n",
      "+-------------------------+-----+\n",
      "\n"
     ]
    }
   ],
   "source": [
    "#Traitement de l'emplacement : il y a un emplacement qui contenait que Milan et on choisit le donner plus des détails en changeant en Milan banlieu\n",
    "traitement_emplacement = udf(lambda x: re.sub(\"^Milan\", \"Milan banlieu\", x))\n",
    "df_booking = df_booking.withColumn(\"emplacement\", traitement_emplacement(\"emplacement\"))\n",
    "\n",
    "#Création d'un dataframe qui compte les occurrences de la variable emplacement \n",
    "emplacement_count = df_booking.groupBy(\"emplacement\").count()\n",
    "emplacement_count.show(100, truncate=False)"
   ]
  },
  {
   "cell_type": "code",
   "execution_count": 26,
   "metadata": {
    "id": "uIuUK8eV7Gkp"
   },
   "outputs": [],
   "source": [
    "#Traitement type d'hebergement : on veut créer des categories qui sont assez homogenes donc on garde que les elements en commun.\n",
    "traitement_type = udf(lambda x: ''.join(re.findall(r'^\\s?(Chambre Double|Appartement|Studio|Loft|Suite|Penthouse|Maison|Maisonnette|Petite Chambre Double)\\b', re.sub(r'Chambre(.*?)', 'Chambre Double', x))))\n",
    "df_booking = df_booking.withColumn(\"type_hebergement\", traitement_type(\"type_hebergement\"))"
   ]
  },
  {
   "cell_type": "code",
   "execution_count": 27,
   "metadata": {
    "colab": {
     "base_uri": "https://localhost:8080/"
    },
    "id": "hmTOqsYK8CLg",
    "outputId": "c0e08a28-0d49-4e51-f43c-90adbe00bb46"
   },
   "outputs": [
    {
     "name": "stdout",
     "output_type": "stream",
     "text": [
      "+-------------------+-----+\n",
      "|annulation_gratuite|count|\n",
      "+-------------------+-----+\n",
      "|indisponible       |386  |\n",
      "|annulation gratuite|415  |\n",
      "+-------------------+-----+\n",
      "\n"
     ]
    }
   ],
   "source": [
    "#Comptage du nombre d'occurrences de la variable breakfast_inclus\n",
    "annulation_gratuite_count = df_booking.groupBy(\"annulation_gratuite\").count()\n",
    "annulation_gratuite_count.show(truncate=False)"
   ]
  },
  {
   "cell_type": "code",
   "execution_count": 28,
   "metadata": {
    "colab": {
     "base_uri": "https://localhost:8080/"
    },
    "id": "C4Gtp47p3NYb",
    "outputId": "0abaaf44-be92-45d7-ea21-7070539353b6"
   },
   "outputs": [
    {
     "name": "stdout",
     "output_type": "stream",
     "text": [
      "+----------------------+-----+\n",
      "|breakfast_inclus      |count|\n",
      "+----------------------+-----+\n",
      "|petit-déjeuner compris|55   |\n",
      "|non compris           |746  |\n",
      "+----------------------+-----+\n",
      "\n"
     ]
    }
   ],
   "source": [
    "#Comptage du nombre d'occurrences de la variable breakfast_inclus\n",
    "breakfast_inclus_count = df_booking.groupBy(\"breakfast_inclus\").count()\n",
    "breakfast_inclus_count.show(truncate=False)"
   ]
  },
  {
   "cell_type": "code",
   "execution_count": 29,
   "metadata": {
    "colab": {
     "base_uri": "https://localhost:8080/"
    },
    "id": "D4cYrlIt-fJs",
    "outputId": "3efb845b-18eb-4b78-9ecb-4b92e58648a4"
   },
   "outputs": [
    {
     "name": "stdout",
     "output_type": "stream",
     "text": [
      "+----------------+--------------------+-------------------+--------------------+--------------------+--------------------+--------------------+----------+--------------------+----+----+--------------------+---------+--------+\n",
      "|   accessibilite|             adresse|annulation_gratuite|    breakfast_inclus|         description|         emplacement|                lien|nb_etoiles|                 nom|note|prix|    type_hebergement|      lat|    long|\n",
      "+----------------+--------------------+-------------------+--------------------+--------------------+--------------------+--------------------+----------+--------------------+----+----+--------------------+---------+--------+\n",
      "|4,1 km du centre|Via Arbe 63, Bico...|annulation gratuite|         non compris|Implanté à quelqu...|Bicocca - Zara, M...|https://www.booki...|         3|BB Hotels Apartho...| 8.7|1980|              Studio|45.500034|9.198904|\n",
      "|  50 m du centre|Passaggio degli O...|       indisponible|         non compris|Les appartements ...|Centre de Milan, ...|https://www.booki...|         3|Aparthotel Dei Me...| 8.8|2463|         Appartement|45.464363|9.187862|\n",
      "|1,2 km du centre|Via San Vincenzo ...|annulation gratuite|petit-déjeuner co...|Doté d'une connex...|Centre de Milan, ...|https://www.booki...|         3|   B&B Sant'Agostino| 7.7|1824|      Chambre Double|45.458736|9.175098|\n",
      "|0,8 km du centre|Via Santa Sofia 1...|annulation gratuite|petit-déjeuner co...|L'Hotel Canada se...|Centre de Milan, ...|https://www.booki...|         3|        Hotel Canada| 8.3|3022|      Chambre Double| 45.45731|9.191093|\n",
      "|2,8 km du centre|35 Via Carlo Fari...|annulation gratuite|         non compris|Cet appartement c...|Gare Garibaldi, M...|https://www.booki...|         3|Il tetto fiorito ...| 8.4|1222|         Appartement|45.489586|9.183012|\n",
      "|2,3 km du centre|8 Via Gaetano de ...|annulation gratuite|         non compris|Bosco verticale H...|Gare Garibaldi, M...|https://www.booki...|         0|Bosco verticale Home| 0.0|2165|         Appartement| 45.48527|9.189528|\n",
      "|1,5 km du centre|Corso Garibaldi 8...|annulation gratuite|         non compris|Offering free WiF...|Centre de Milan, ...|https://www.booki...|         4|   Urban Hive Milano| 8.5|3652|      Chambre Double|45.477116|9.184461|\n",
      "|3,1 km du centre|Via Mauro Macchi ...|annulation gratuite|         non compris|The spacious, mod...|Gare centrale, Milan|https://www.booki...|         4|Residenza delle C...| 9.2|2392|              Studio| 45.48791|9.210752|\n",
      "|1,7 km du centre|52 Corso di Porta...|annulation gratuite|         non compris|Ideally situated ...|Centre de Milan, ...|https://www.booki...|         0|Appartamento in B...| 8.0|2026|         Appartement|45.478947|9.192503|\n",
      "|0,9 km du centre|Different Locatio...|       indisponible|         non compris|Les studios et le...|Centre de Milan, ...|https://www.booki...|         3|Brera Apartments ...| 8.5|2514|              Studio|45.467075|9.200135|\n",
      "| 500 m du centre|2 Via Giorgio Giu...|       indisponible|         non compris|Situé à Milan, à ...|Centre de Milan, ...|https://www.booki...|         4|Imperiale Suites ...| 8.3|4416|         Appartement|45.466908|9.183623|\n",
      "|2,6 km du centre|19 Via Tiziano, F...|annulation gratuite|petit-déjeuner co...|Doté d'un jardin,...|Fiera Milano City...|https://www.booki...|         3|Ampio ed incantev...| 8.7|1812|         Appartement|45.472805|9.158301|\n",
      "|2,5 km du centre|Corso Vercelli 61...|annulation gratuite|petit-déjeuner co...|L’Hotel Metrò est...|Fiera Milano City...|https://www.booki...|         3|         Hotel Metrò| 8.4|2048|Petite Chambre Do...|45.466698|9.156676|\n",
      "|1,8 km du centre|2 Via Pontida, Ce...|annulation gratuite|         non compris|Cet appartement c...|Centre de Milan, ...|https://www.booki...|         3|CENTRO-MOSCOVA Ap...| 8.0|2230|         Appartement| 45.47996|9.182971|\n",
      "|1,3 km du centre|Via Orti 4, Centr...|annulation gratuite|         non compris|Tous les logement...|Centre de Milan, ...|https://www.booki...|         3|Brand new apartme...| 9.5|3517|         Appartement|45.454876|9.199131|\n",
      "|1,1 km du centre|1 Via Boschetti, ...|annulation gratuite|         non compris|Situé dans le cen...|Centre de Milan, ...|https://www.booki...|         3|       ViaBoschetti1| 9.5|2813|         Appartement| 45.47019| 9.20017|\n",
      "|5,7 km du centre|2 Via Tibullo 1 p...|annulation gratuite|         non compris|Situé à Milan, à ...|      Certosa, Milan|https://www.booki...|         4|              Marina| 9.7|2096|         Appartement| 45.49796|9.133323|\n",
      "|  2 km du centre|56 Alzaia Navigli...|annulation gratuite|         non compris|Situé à Milan, à ...|      Navigli, Milan|https://www.booki...|         3|Boutique suite su...|10.0|2260|         Appartement|45.451046|9.170558|\n",
      "|  2 km du centre|5 Via Giuseppe Gi...|annulation gratuite|         non compris|Cet appartement a...|     Sempione, Milan|https://www.booki...|         3|   Mini loft Moscova| 9.2|2590|         Appartement| 45.48036|9.178725|\n",
      "|2,8 km du centre|Viale Molise 84, ...|annulation gratuite|         non compris|Tous les logement...|Porta Vittoria, M...|https://www.booki...|         4|        Piranesi 246| 8.6|2692|              Studio| 45.46048|9.224387|\n",
      "+----------------+--------------------+-------------------+--------------------+--------------------+--------------------+--------------------+----------+--------------------+----+----+--------------------+---------+--------+\n",
      "only showing top 20 rows\n",
      "\n"
     ]
    }
   ],
   "source": [
    "#Affichage du dataframe\n",
    "df_booking.show()"
   ]
  },
  {
   "cell_type": "code",
   "execution_count": 30,
   "metadata": {
    "id": "n9XgHPz7kw-z"
   },
   "outputs": [],
   "source": [
    "#Creation d'une variable qui se base sur l'emplacement pour créer une variable booléenne qui nous permet de savoir si l'hotel est loin ou près du centre. \n",
    "df_booking = df_booking.withColumn(\"pres_du_centre\", when(df_booking[\"emplacement\"] == \"Centre de Milan, Milan\", 1).otherwise(0))"
   ]
  },
  {
   "cell_type": "code",
   "execution_count": 31,
   "metadata": {
    "colab": {
     "base_uri": "https://localhost:8080/"
    },
    "id": "tKSmjBWsl5G9",
    "outputId": "612797e3-bec8-4437-9f6f-f5f2a28544de"
   },
   "outputs": [
    {
     "name": "stdout",
     "output_type": "stream",
     "text": [
      "+--------------+-----+\n",
      "|pres_du_centre|count|\n",
      "+--------------+-----+\n",
      "|1             |214  |\n",
      "|0             |587  |\n",
      "+--------------+-----+\n",
      "\n"
     ]
    }
   ],
   "source": [
    "##Comptage du nombre d'occurrences de la nouvelle variable pres_du_centre\n",
    "compatage_pres_du_centre_count = df_booking.groupBy(\"pres_du_centre\").count()\n",
    "compatage_pres_du_centre_count.show(100, truncate=False)"
   ]
  },
  {
   "cell_type": "code",
   "execution_count": 32,
   "metadata": {
    "id": "jFZJLw4xdASZ"
   },
   "outputs": [],
   "source": [
    "# On réordonne la base de données \n",
    "df_booking = df_booking.select(\"nom\",\"type_hebergement\", \"emplacement\", \"accessibilite\", \"nb_etoiles\", \"note\", \"prix\", \"breakfast_inclus\", \"annulation_gratuite\", \"adresse\", \"lat\", \"long\", \"pres_du_centre\", \"description\", \"lien\")"
   ]
  },
  {
   "cell_type": "code",
   "execution_count": 33,
   "metadata": {
    "colab": {
     "base_uri": "https://localhost:8080/"
    },
    "id": "cbD4H0_FdhDm",
    "outputId": "92b3086d-85d2-4939-c3f9-e997df423b4a"
   },
   "outputs": [
    {
     "name": "stdout",
     "output_type": "stream",
     "text": [
      "+-------------------------------------------------+---------------------+------------------------+----------------+----------+----+----+----------------------+-------------------+------------------------------------------------------------------------------+---------+--------+--------------+------------------------------------------------------------------------------------------------------------------------------------------------------------------------------------------------------------------------------------------------------------------------------------------------------------------------------------------------------------------------------------------------------------------------------------------------------------------------------------------------------------------------------------------------------------------------------------------------+-----------------------------------------------------------------------------------------------------------------------------------------------------------------------------------------------------------------------------------------------------------------------------------------------------------------------------------------------------------------------------------------------------------------------------------------------------------------------------------------------------------------------------------------------------------------------------------------------------------------------------------------------------------------------------------------------------------------------------------------------+\n",
      "|nom                                              |type_hebergement     |emplacement             |accessibilite   |nb_etoiles|note|prix|breakfast_inclus      |annulation_gratuite|adresse                                                                       |lat      |long    |pres_du_centre|description                                                                                                                                                                                                                                                                                                                                                                                                                                                                                                                                                                                     |lien                                                                                                                                                                                                                                                                                                                                                                                                                                                                                                                                                                                                                                                                                                                                           |\n",
      "+-------------------------------------------------+---------------------+------------------------+----------------+----------+----+----+----------------------+-------------------+------------------------------------------------------------------------------+---------+--------+--------------+------------------------------------------------------------------------------------------------------------------------------------------------------------------------------------------------------------------------------------------------------------------------------------------------------------------------------------------------------------------------------------------------------------------------------------------------------------------------------------------------------------------------------------------------------------------------------------------------+-----------------------------------------------------------------------------------------------------------------------------------------------------------------------------------------------------------------------------------------------------------------------------------------------------------------------------------------------------------------------------------------------------------------------------------------------------------------------------------------------------------------------------------------------------------------------------------------------------------------------------------------------------------------------------------------------------------------------------------------------+\n",
      "|BB Hotels Aparthotel Bicocca                     |Studio               |Bicocca - Zara, Milan   |4,1 km du centre|3         |8.7 |1980|non compris           |annulation gratuite|Via Arbe 63, Bicocca - Zara, 20125 Milan, Italie                              |45.500034|9.198904|0             |Implanté à quelques minutes à pied de la station de métro Istria à Milan, le BB Hotels Residenza Bicocca dispose d'un jardin et vous propose des appartements climatisés avec connexion Wi-Fi gratuite. Les parcs des expositions Rho Fiera Milano et Expo 2015 sont accessibles en 25 minutes de route.Vous séjournerez à 15 minutes à pied de la gare et de la station de métro Milano-Centrale, permettant de se rendre dans les aéroports de la ville grâce au service de navette aller-retour. Depuis la station de métro Istria, vous pourrez rejoindre la gare de Milan-Porta Garibaldi. |https://www.booking.com/hotel/it/bb-hotels-residenza-bicocca.fr.html?aid=304142&label=gen173nr-1FCAQoggI4iQRIDVgEaE2IAQGYAQ24AQrIAQXYAQHoAQH4AQOIAgGoAgO4ApfzsJ4GwAIB0gIkNTg3NzA0OWEtM2E4OS00Nzk5LWJiMWItYThmYjFlYjYwODEz2AIF4AIB&ucfs=1&arphpl=1&checkin=2023-08-04&checkout=2023-08-20&dest_id=-121726&dest_type=city&group_adults=2&req_adults=2&no_rooms=1&group_children=0&req_children=0&hpos=26&hapos=26&sr_order=popularity&srpvid=6fb1874b41990121&srepoch=1674328473&all_sr_blocks=56735404_362128532_2_0_0&highlighted_blocks=56735404_362128532_2_0_0&matching_block_id=56735404_362128532_2_0_0&sr_pri_blocks=56735404_362128532_2_0_0__198000&tpi_r=2&from=searchresults#hotelTmpl                                               |\n",
      "|Aparthotel Dei Mercanti                          |Appartement          |Centre de Milan, Milan  |50 m du centre  |3         |8.8 |2463|non compris           |indisponible       |Passaggio degli Osii 1, Centre de Milan, 20123 Milan, Italie                  |45.464363|9.187862|1             |Les appartements offrent une vue sur la ville. Ils comprennent une kitchenette entièrement équipée et un coin salon avec un canapé-lit. Un des logements dispose d'une baignoire spa.                                                                                                                                                                                                                                                                                                                                                                                                           |https://www.booking.com/hotel/it/aparthotel-dei-mercanti.fr.html?aid=304142&label=gen173nr-1FCAQoggI4iQRIDVgEaE2IAQGYAQ24AQrIAQXYAQHoAQH4AQOIAgGoAgO4ApvzsJ4GwAIB0gIkNWExZmY2ZjEtMzFkZS00NmYxLWI5ZWItM2Y5NTg2OTAxMGU02AIF4AIB&ucfs=1&arphpl=1&checkin=2023-08-04&checkout=2023-08-20&dest_id=-121726&dest_type=city&group_adults=2&req_adults=2&no_rooms=1&group_children=0&req_children=0&hpos=25&hapos=50&sr_order=popularity&srpvid=b81b874d3c21011a&srepoch=1674328477&all_sr_blocks=172904107_90334110_2_0_0&highlighted_blocks=172904107_90334110_2_0_0&matching_block_id=172904107_90334110_2_0_0&sr_pri_blocks=172904107_90334110_2_0_0__246300&tpi_r=2&from=searchresults#hotelTmpl                                                   |\n",
      "|B&B Sant'Agostino                                |Chambre Double       |Centre de Milan, Milan  |1,2 km du centre|3         |7.7 |1824|petit-déjeuner compris|annulation gratuite|Via San Vincenzo 18D, Centre de Milan, 20125 Milan, Italie                    |45.458736|9.175098|1             |Doté d'une connexion Wi-Fi gratuite et d'un hébergement climatisé, l'établissement B&amp;B Sant’Agostino se trouve à 700 mètres de la basilique de Saint-Ambroise à Milan.L'église Santa Maria delle Grazie se situe à 15 minutes à pied. En moins de 10 minutes de marche, vous pourrez rejoindre la station de métro Sant’Ambrogio qui dessert la gare Centrale de Milan.                                                                                                                                                                                                                     |https://www.booking.com/hotel/it/b-amp-b-sant-agostino.fr.html?aid=304142&label=gen173nr-1FCAQoggI4iQRIDVgEaE2IAQGYAQ24AQrIAQXYAQHoAQH4AQOIAgGoAgO4ApvzsJ4GwAIB0gIkNWExZmY2ZjEtMzFkZS00NmYxLWI5ZWItM2Y5NTg2OTAxMGU02AIF4AIB&ucfs=1&arphpl=1&checkin=2023-08-04&checkout=2023-08-20&dest_id=-121726&dest_type=city&group_adults=2&req_adults=2&no_rooms=1&group_children=0&req_children=0&hpos=24&hapos=49&sr_order=popularity&srpvid=b81b874d3c21011a&srepoch=1674328477&all_sr_blocks=64942203_366471835_0_1_0&highlighted_blocks=64942203_366471835_0_1_0&matching_block_id=64942203_366471835_0_1_0&sr_pri_blocks=64942203_366471835_0_1_0__182400&tpi_r=2&from=searchresults#hotelTmpl                                                     |\n",
      "|Hotel Canada                                     |Chambre Double       |Centre de Milan, Milan  |0,8 km du centre|3         |8.3 |3022|petit-déjeuner compris|annulation gratuite|Via Santa Sofia 16, Centre de Milan, 20122 Milan, Italie                      |45.45731 |9.191093|1             |L'Hotel Canada se trouve à 500 mètres de la station de métro Crocetta, à 300 mètres de celle Missori et à seulement 1 arrêt de métro du Dôme de Milan. Il vous propose des chambres à la décoration contemporaine, dotées d'une télévision à écran LCD avec les chaînes du bouquet Sky.Lors de votre séjour, vous pourrez profiter d'une connexion Wi-Fi gratuite et d'une réception ouverte 24h/24. Chaque matin, un petit-déjeuner varié vous sera servi dans la salle à manger de l'hôtel.Les parcs des expositions Rho Fiera Milano et Area Expo sont tous deux installés à 16 km.          |https://www.booking.com/hotel/it/canadamilan.fr.html?aid=304142&label=gen173nr-1FCAQoggI4iQRIDVgEaE2IAQGYAQ24AQrIAQXYAQHoAQH4AQOIAgGoAgO4ApvzsJ4GwAIB0gIkNWExZmY2ZjEtMzFkZS00NmYxLWI5ZWItM2Y5NTg2OTAxMGU02AIF4AIB&ucfs=1&arphpl=1&checkin=2023-08-04&checkout=2023-08-20&dest_id=-121726&dest_type=city&group_adults=2&req_adults=2&no_rooms=1&group_children=0&req_children=0&hpos=23&hapos=48&sr_order=popularity&srpvid=b81b874d3c21011a&srepoch=1674328477&all_sr_blocks=8119103_352566015_2_1_0&highlighted_blocks=8119103_352566015_2_1_0&matching_block_id=8119103_352566015_2_1_0&sr_pri_blocks=8119103_352566015_2_1_0__302180&tpi_r=2&from=searchresults#hotelTmpl                                                                   |\n",
      "|Il tetto fiorito dell'Isola                      |Appartement          |Gare Garibaldi, Milan   |2,8 km du centre|3         |8.4 |1222|non compris           |annulation gratuite|35 Via Carlo Farini, Gare Garibaldi, 20159 Milan, Italie                      |45.489586|9.183012|0             |Cet appartement climatisé comprend une chambre, une télévision à écran plat ainsi qu'une cuisine équipée d'un réfrigérateur et d'un four. Les serviettes et le linge de lit sont fournis.                                                                                                                                                                                                                                                                                                                                                                                                       |https://www.booking.com/hotel/it/il-tetto-fiorito-dell-isola.fr.html?aid=304142&label=gen173nr-1FCAQoggI4iQRIDVgEaE2IAQGYAQ24AQrIAQXYAQHoAQH4AQOIAgGoAgO4ApvzsJ4GwAIB0gIkNWExZmY2ZjEtMzFkZS00NmYxLWI5ZWItM2Y5NTg2OTAxMGU02AIF4AIB&ucfs=1&arphpl=1&checkin=2023-08-04&checkout=2023-08-20&dest_id=-121726&dest_type=city&group_adults=2&req_adults=2&no_rooms=1&group_children=0&req_children=0&hpos=22&hapos=47&sr_order=popularity&srpvid=b81b874d3c21011a&srepoch=1674328477&all_sr_blocks=871724401_355866161_2_0_0&highlighted_blocks=871724401_355866161_2_0_0&matching_block_id=871724401_355866161_2_0_0&sr_pri_blocks=871724401_355866161_2_0_0__122200&tpi_r=2&from=searchresults#hotelTmpl                                           |\n",
      "|Bosco verticale Home                             |Appartement          |Gare Garibaldi, Milan   |2,3 km du centre|0         |0.0 |2165|non compris           |annulation gratuite|8 Via Gaetano de Castillia, Gare Garibaldi, 20124 Milan, Italie               |45.48527 |9.189528|0             |Bosco verticale Home is set in the Stazione Garibaldi - Porta Nuova district of Milan, 100 metres from Bosco Verticale, 1.2 km from Centrale Metro Station and 1.9 km from Arena Civica. This apartment is 3.6 km from Villa Necchi Campiglio and 3.6 km from Sforzesco Castle.Brera Art Gallery is 1.9 km from the apartment, while GAM Milano is 3.3 km away. The nearest airport is Milan Linate Airport, 10 km from Bosco verticale Home.                                                                                                                                                   |https://www.booking.com/hotel/it/bosco-verticale-home.fr.html?aid=304142&label=gen173nr-1FCAQoggI4iQRIDVgEaE2IAQGYAQ24AQrIAQXYAQHoAQH4AQOIAgGoAgO4ApvzsJ4GwAIB0gIkNWExZmY2ZjEtMzFkZS00NmYxLWI5ZWItM2Y5NTg2OTAxMGU02AIF4AIB&ucfs=1&arphpl=1&checkin=2023-08-04&checkout=2023-08-20&dest_id=-121726&dest_type=city&group_adults=2&req_adults=2&no_rooms=1&group_children=0&req_children=0&hpos=21&hapos=46&sr_order=popularity&srpvid=b81b874d3c21011a&srepoch=1674328477&all_sr_blocks=941370101_366373397_2_0_0&highlighted_blocks=941370101_366373397_2_0_0&matching_block_id=941370101_366373397_2_0_0&sr_pri_blocks=941370101_366373397_2_0_0__216480&tpi_r=2&from=searchresults#hotelTmpl                                                  |\n",
      "|Urban Hive Milano                                |Chambre Double       |Centre de Milan, Milan  |1,5 km du centre|4         |8.5 |3652|non compris           |annulation gratuite|Corso Garibaldi 84, Centre de Milan, 20121 Milan, Italie                      |45.477116|9.184461|1             |Offering free WiFi, rooms at the Urban Hive Milano Hotel come with a satellite flat-screen TV, minibar and wooden floors. The private bathroom is complete with a hairdryer and free toiletries.                                                                                                                                                                                                                                                                                                                                                                                                |https://www.booking.com/hotel/it/carlyle.fr.html?aid=304142&label=gen173nr-1FCAQoggI4iQRIDVgEaE2IAQGYAQ24AQrIAQXYAQHoAQH4AQOIAgGoAgO4ApvzsJ4GwAIB0gIkNWExZmY2ZjEtMzFkZS00NmYxLWI5ZWItM2Y5NTg2OTAxMGU02AIF4AIB&ucfs=1&arphpl=1&checkin=2023-08-04&checkout=2023-08-20&dest_id=-121726&dest_type=city&group_adults=2&req_adults=2&no_rooms=1&group_children=0&req_children=0&hpos=20&hapos=45&sr_order=popularity&srpvid=b81b874d3c21011a&srepoch=1674328477&all_sr_blocks=8035405_195710243_0_2_0&highlighted_blocks=8035405_195710243_0_2_0&matching_block_id=8035405_195710243_0_2_0&sr_pri_blocks=8035405_195710243_0_2_0__365200&tpi_r=2&from_sustainable_property_sr=1&from=searchresults#hotelTmpl                                        |\n",
      "|Residenza delle Città                            |Studio               |Gare centrale, Milan    |3,1 km du centre|4         |9.2 |2392|non compris           |annulation gratuite|Via Mauro Macchi 79, Gare centrale, 20124 Milan, Italie                       |45.48791 |9.210752|0             |The spacious, modern suites and apartments feature wood floors and marble bathrooms. Breakfast and shopping from the local supermarket can be delivered.Residenza delle Città features a new fitness centre, and a terrace furnished with tables and chairs. The laundry room is equipped with washing machines and clothes dryer.                                                                                                                                                                                                                                                              |https://www.booking.com/hotel/it/residenza-delle-citta.fr.html?aid=304142&label=gen173nr-1FCAQoggI4iQRIDVgEaE2IAQGYAQ24AQrIAQXYAQHoAQH4AQOIAgGoAgO4ApvzsJ4GwAIB0gIkNWExZmY2ZjEtMzFkZS00NmYxLWI5ZWItM2Y5NTg2OTAxMGU02AIF4AIB&ucfs=1&arphpl=1&checkin=2023-08-04&checkout=2023-08-20&dest_id=-121726&dest_type=city&group_adults=2&req_adults=2&no_rooms=1&group_children=0&req_children=0&hpos=19&hapos=44&sr_order=popularity&srpvid=b81b874d3c21011a&srepoch=1674328477&all_sr_blocks=4270803_145423634_0_0_0&highlighted_blocks=4270803_145423634_0_0_0&matching_block_id=4270803_145423634_0_0_0&sr_pri_blocks=4270803_145423634_0_0_0__239240&tpi_r=2&from_sustainable_property_sr=1&from=searchresults#hotelTmpl                          |\n",
      "|Appartamento in Brera-Milano                     |Appartement          |Centre de Milan, Milan  |1,7 km du centre|0         |8.0 |2026|non compris           |annulation gratuite|52 Corso di Porta Nuova, Centre de Milan, 20121 Milan, Italie                 |45.478947|9.192503|1             |Ideally situated in the centre of Milan, Appartamento in Brera-Milano offers a balcony. Guests staying at this apartment have access to free WiFi and a patio.Popular points of interest near the apartment include Centrale Metro Station, Brera Art Gallery and Bosco Verticale. The nearest airport is Milan Linate Airport, 8 km from Appartamento in Brera-Milano.                                                                                                                                                                                                                         |https://www.booking.com/hotel/it/appartamento-in-brera-milano.fr.html?aid=304142&label=gen173nr-1FCAQoggI4iQRIDVgEaE2IAQGYAQ24AQrIAQXYAQHoAQH4AQOIAgGoAgO4ApvzsJ4GwAIB0gIkNWExZmY2ZjEtMzFkZS00NmYxLWI5ZWItM2Y5NTg2OTAxMGU02AIF4AIB&ucfs=1&arphpl=1&checkin=2023-08-04&checkout=2023-08-20&dest_id=-121726&dest_type=city&group_adults=2&req_adults=2&no_rooms=1&group_children=0&req_children=0&hpos=18&hapos=43&sr_order=popularity&srpvid=b81b874d3c21011a&srepoch=1674328477&all_sr_blocks=943036001_367250984_2_0_0&highlighted_blocks=943036001_367250984_2_0_0&matching_block_id=943036001_367250984_2_0_0&sr_pri_blocks=943036001_367250984_2_0_0__202608&tpi_r=2&from_sustainable_property_sr=1&from=searchresults#hotelTmpl           |\n",
      "|Brera Apartments in San Babila                   |Studio               |Centre de Milan, Milan  |0,9 km du centre|3         |8.5 |2514|non compris           |indisponible       |Different Locations in Milan City Centre, Centre de Milan, 20122 Milan, Italie|45.467075|9.200135|1             |Les studios et les appartements présentent une décoration soignée, avec un mobilier raffiné. Ils possèdent une confortable pièce à vivre. La salle de bains est pourvue d'une douche, d'articles de toilette gratuits et d'un sèche-cheveux.                                                                                                                                                                                                                                                                                                                                                    |https://www.booking.com/hotel/it/brera-apartments-in-san-babila.fr.html?aid=304142&label=gen173nr-1FCAQoggI4iQRIDVgEaE2IAQGYAQ24AQrIAQXYAQHoAQH4AQOIAgGoAgO4ApvzsJ4GwAIB0gIkNWExZmY2ZjEtMzFkZS00NmYxLWI5ZWItM2Y5NTg2OTAxMGU02AIF4AIB&ucfs=1&arphpl=1&checkin=2023-08-04&checkout=2023-08-20&dest_id=-121726&dest_type=city&group_adults=2&req_adults=2&no_rooms=1&group_children=0&req_children=0&hpos=17&hapos=42&sr_order=popularity&srpvid=b81b874d3c21011a&srepoch=1674328477&all_sr_blocks=106267107_88400509_0_0_0&highlighted_blocks=106267107_88400509_0_0_0&matching_block_id=106267107_88400509_0_0_0&sr_pri_blocks=106267107_88400509_0_0_0__251400&tpi_r=2&from_sustainable_property_sr=1&from=searchresults#hotelTmpl             |\n",
      "|Imperiale Suites Milano                          |Appartement          |Centre de Milan, Milan  |500 m du centre |4         |8.3 |4416|non compris           |indisponible       |2 Via Giorgio Giulini, Centre de Milan, 20123 Milan, Italie                   |45.466908|9.183623|1             |Situé à Milan, à 500 mètres du château des Sforza et à 400 mètres du centre, l'Imperiale Suites Milano propose des hébergements climatisés avec connexion Wi-Fi gratuite et un bar. Un parking privé est disponible sur place.Cet appart'hôtel sert un petit-déjeuner italien.                                                                                                                                                                                                                                                                                                                  |https://www.booking.com/hotel/it/imperiale-suites-milano.fr.html?aid=304142&label=gen173nr-1FCAQoggI4iQRIDVgEaE2IAQGYAQ24AQrIAQXYAQHoAQH4AQOIAgGoAgO4ApvzsJ4GwAIB0gIkNWExZmY2ZjEtMzFkZS00NmYxLWI5ZWItM2Y5NTg2OTAxMGU02AIF4AIB&ucfs=1&arphpl=1&checkin=2023-08-04&checkout=2023-08-20&dest_id=-121726&dest_type=city&group_adults=2&req_adults=2&no_rooms=1&group_children=0&req_children=0&hpos=16&hapos=41&sr_order=popularity&srpvid=b81b874d3c21011a&srepoch=1674328477&all_sr_blocks=784452101_337944261_2_2_0&highlighted_blocks=784452101_337944261_2_2_0&matching_block_id=784452101_337944261_2_2_0&sr_pri_blocks=784452101_337944261_2_2_0__441600&tpi_r=2&from_sustainable_property_sr=1&from=searchresults#hotelTmpl                |\n",
      "|Ampio ed incantevole monolocale a CityLife       |Appartement          |Fiera Milano City, Milan|2,6 km du centre|3         |8.7 |1812|petit-déjeuner compris|annulation gratuite|19 Via Tiziano, Fiera Milano City, 20145 Milan, Italie                        |45.472805|9.158301|0             |Doté d'un jardin, l'Ampio ed incantevole monolocale a CityLife est situé à Milan, à 800 mètres de CityLife, à 1,4 km de la Cène et à 1,5 km de Santa Maria delle Grazie. Cet appartement se trouve à 3,2 km du château des Sforza et à 3,3 km de La Scala.Un petit-déjeuner italien est servi sur place.                                                                                                                                                                                                                                                                                        |https://www.booking.com/hotel/it/ampio-ed-incantevole-monolocale-a-citylife.fr.html?aid=304142&label=gen173nr-1FCAQoggI4iQRIDVgEaE2IAQGYAQ24AQrIAQXYAQHoAQH4AQOIAgGoAgO4ApvzsJ4GwAIB0gIkNWExZmY2ZjEtMzFkZS00NmYxLWI5ZWItM2Y5NTg2OTAxMGU02AIF4AIB&ucfs=1&arphpl=1&checkin=2023-08-04&checkout=2023-08-20&dest_id=-121726&dest_type=city&group_adults=2&req_adults=2&no_rooms=1&group_children=0&req_children=0&hpos=15&hapos=40&sr_order=popularity&srpvid=b81b874d3c21011a&srepoch=1674328477&all_sr_blocks=771455801_335012750_2_1_0&highlighted_blocks=771455801_335012750_2_1_0&matching_block_id=771455801_335012750_2_1_0&sr_pri_blocks=771455801_335012750_2_1_0__181200&tpi_r=2&from=searchresults#hotelTmpl                            |\n",
      "|Hotel Metrò                                      |Petite Chambre Double|Fiera Milano City, Milan|2,5 km du centre|3         |8.4 |2048|petit-déjeuner compris|annulation gratuite|Corso Vercelli 61, Fiera Milano City, 20144 Milan, Italie                     |45.466698|9.156676|0             |L’Hotel Metrò est installé dans un bâtiment Liberty, à quelques minutes de marche de la station de métro Wagner. Le Dôme de Milan est desservi par la même ligne.Vous séjournerez à 11 km du parc des expositions Rho Fiera.                                                                                                                                                                                                                                                                                                                                                                    |https://www.booking.com/hotel/it/metro-milano.fr.html?aid=304142&label=gen173nr-1FCAQoggI4iQRIDVgEaE2IAQGYAQ24AQrIAQXYAQHoAQH4AQOIAgGoAgO4ApvzsJ4GwAIB0gIkNWExZmY2ZjEtMzFkZS00NmYxLWI5ZWItM2Y5NTg2OTAxMGU02AIF4AIB&ucfs=1&arphpl=1&checkin=2023-08-04&checkout=2023-08-20&dest_id=-121726&dest_type=city&group_adults=2&req_adults=2&no_rooms=1&group_children=0&req_children=0&hpos=14&hapos=39&sr_order=popularity&srpvid=b81b874d3c21011a&srepoch=1674328477&all_sr_blocks=24570609_363528602_0_1_0&highlighted_blocks=24570609_363528602_0_1_0&matching_block_id=24570609_363528602_0_1_0&sr_pri_blocks=24570609_363528602_0_1_0__204800&tpi_r=2&from=searchresults#hotelTmpl                                                              |\n",
      "|CENTRO-MOSCOVA Appartamento Incantevole Free WiFi|Appartement          |Centre de Milan, Milan  |1,8 km du centre|3         |8.0 |2230|non compris           |annulation gratuite|2 Via Pontida, Centre de Milan, 20121 Milan, Italie                           |45.47996 |9.182971|1             |Cet appartement climatisé comprend une chambre ainsi qu'une salle de bains pourvue d'un bidet, d'une douche et d'articles de toilette gratuits. La cuisine est équipée d'un réfrigérateur, de plaques de cuisson et d'une machine à café.                                                                                                                                                                                                                                                                                                                                                       |https://www.booking.com/hotel/it/appartamento-incantevole-milano-moscova.fr.html?aid=304142&label=gen173nr-1FCAQoggI4iQRIDVgEaE2IAQGYAQ24AQrIAQXYAQHoAQH4AQOIAgGoAgO4ApvzsJ4GwAIB0gIkNWExZmY2ZjEtMzFkZS00NmYxLWI5ZWItM2Y5NTg2OTAxMGU02AIF4AIB&ucfs=1&arphpl=1&checkin=2023-08-04&checkout=2023-08-20&dest_id=-121726&dest_type=city&group_adults=2&req_adults=2&no_rooms=1&group_children=0&req_children=0&hpos=13&hapos=38&sr_order=popularity&srpvid=b81b874d3c21011a&srepoch=1674328477&all_sr_blocks=840743201_350772771_2_0_0&highlighted_blocks=840743201_350772771_2_0_0&matching_block_id=840743201_350772771_2_0_0&sr_pri_blocks=840743201_350772771_2_0_0__222960&tpi_r=2&from_sustainable_property_sr=1&from=searchresults#hotelTmpl|\n",
      "|Brand new apartments Ortiquattro                 |Appartement          |Centre de Milan, Milan  |1,3 km du centre|3         |9.5 |3517|non compris           |annulation gratuite|Via Orti 4, Centre de Milan, 20122 Milan, Italie                              |45.454876|9.199131|1             |Tous les logements comprennent une cuisine entièrement équipée où vous pourrez préparer vos repas. Vous pourrez profiter d'un lave-vaisselle, d'un micro-ondes et d'une machine à café.                                                                                                                                                                                                                                                                                                                                                                                                         |https://www.booking.com/hotel/it/ortiquattro.fr.html?aid=304142&label=gen173nr-1FCAQoggI4iQRIDVgEaE2IAQGYAQ24AQrIAQXYAQHoAQH4AQOIAgGoAgO4ApvzsJ4GwAIB0gIkNWExZmY2ZjEtMzFkZS00NmYxLWI5ZWItM2Y5NTg2OTAxMGU02AIF4AIB&ucfs=1&arphpl=1&checkin=2023-08-04&checkout=2023-08-20&dest_id=-121726&dest_type=city&group_adults=2&req_adults=2&no_rooms=1&group_children=0&req_children=0&hpos=12&hapos=37&sr_order=popularity&srpvid=b81b874d3c21011a&srepoch=1674328477&all_sr_blocks=464763701_346714678_2_0_0&highlighted_blocks=464763701_346714678_2_0_0&matching_block_id=464763701_346714678_2_0_0&sr_pri_blocks=464763701_346714678_2_0_0__351720&tpi_r=2&from_sustainable_property_sr=1&from=searchresults#hotelTmpl                            |\n",
      "|ViaBoschetti1                                    |Appartement          |Centre de Milan, Milan  |1,1 km du centre|3         |9.5 |2813|non compris           |annulation gratuite|1 Via Boschetti, Centre de Milan, 20121 Milan, Italie                         |45.47019 |9.20017 |1             |Situé dans le centre de Milan, à 400 mètres du GAM Milano et à 300 mètres de la Villa Necchi Campiglio, le ViaBoschetti1 propose une connexion Wi-Fi gratuite. Cet appartement se trouve à 1 km de la Galleria Vittorio Emanuele et à 1,2 km de la place du Dôme.Vous séjournerez à proximité de la galerie d'art de Brera, de la station de métro San Babila et de la station de métro Montenapoleone. L'aéroport de Milan-Linate, le plus proche, est implanté à 8 km.                                                                                                                        |https://www.booking.com/hotel/it/viaboschetti1.fr.html?aid=304142&label=gen173nr-1FCAQoggI4iQRIDVgEaE2IAQGYAQ24AQrIAQXYAQHoAQH4AQOIAgGoAgO4ApvzsJ4GwAIB0gIkNWExZmY2ZjEtMzFkZS00NmYxLWI5ZWItM2Y5NTg2OTAxMGU02AIF4AIB&ucfs=1&arphpl=1&checkin=2023-08-04&checkout=2023-08-20&dest_id=-121726&dest_type=city&group_adults=2&req_adults=2&no_rooms=1&group_children=0&req_children=0&hpos=11&hapos=36&sr_order=popularity&srpvid=b81b874d3c21011a&srepoch=1674328477&all_sr_blocks=552981501_214639645_2_0_0&highlighted_blocks=552981501_214639645_2_0_0&matching_block_id=552981501_214639645_2_0_0&sr_pri_blocks=552981501_214639645_2_0_0__281320&tpi_r=2&from_sustainable_property_sr=1&from=searchresults#hotelTmpl                          |\n",
      "|Marina                                           |Appartement          |Certosa, Milan          |5,7 km du centre|4         |9.7 |2096|non compris           |annulation gratuite|2 Via Tibullo 1 piano, Certosa, 20151 Milan, Italie                           |45.49796 |9.133323|0             |Situé à Milan, à 2,1 km du parc des expositions Fiera Milano City et à 2,3 km du stade San Siro, le Marina propose un hébergement climatisé avec une terrasse et une connexion Wi-Fi gratuite. Cet appartement se trouve à 4,3 km de l'Arena Civica et à 5 km de l'hôpital Niguarda.Vous séjournerez à 2,9 km du CityLife et à 3,9 km du cimetière monumental. L'aéroport de Milan-Linate, le plus proche, est implanté à 12 km.                                                                                                                                                                |https://www.booking.com/hotel/it/marina-milano.fr.html?aid=304142&label=gen173nr-1FCAQoggI4iQRIDVgEaE2IAQGYAQ24AQrIAQXYAQHoAQH4AQOIAgGoAgO4ApvzsJ4GwAIB0gIkNWExZmY2ZjEtMzFkZS00NmYxLWI5ZWItM2Y5NTg2OTAxMGU02AIF4AIB&ucfs=1&arphpl=1&checkin=2023-08-04&checkout=2023-08-20&dest_id=-121726&dest_type=city&group_adults=2&req_adults=2&no_rooms=1&group_children=0&req_children=0&hpos=9&hapos=34&sr_order=popularity&srpvid=b81b874d3c21011a&srepoch=1674328477&all_sr_blocks=860937101_356975677_4_0_0&highlighted_blocks=860937101_356975677_4_0_0&matching_block_id=860937101_356975677_4_0_0&sr_pri_blocks=860937101_356975677_4_0_0__209600&tpi_r=2&from=searchresults#hotelTmpl                                                          |\n",
      "|Boutique suite sul Naviglio Grande               |Appartement          |Navigli, Milan          |2 km du centre  |3         |10.0|2260|non compris           |annulation gratuite|56 Alzaia Naviglio Grande, Navigli, 20144 Milan, Italie                       |45.451046|9.170558|0             |Situé à Milan, à 1 km de Darsena et à 1,3 km du MUDEC, Le Monolocale con doppio affaccio sul Naviglio Grande propose une connexion Wi-Fi gratuite et la climatisation. Il se trouve à 2,7 km de la Cène et du palais royal.Santa Maria delle Grazie se trouve à 2,5 km du Monolocale con doppio affaccio sul Naviglio Grande, tandis que San Maurizio al Monastero Maggiore est à 2,7 km. L'aéroport de Milan-Linate, le plus proche, est implanté à 10 km.                                                                                                                                     |https://www.booking.com/hotel/it/monolocale-con-doppio-affaccio-sul-naviglio-grande.fr.html?aid=304142&label=gen173nr-1FCAQoggI4iQRIDVgEaE2IAQGYAQ24AQrIAQXYAQHoAQH4AQOIAgGoAgO4ApvzsJ4GwAIB0gIkNWExZmY2ZjEtMzFkZS00NmYxLWI5ZWItM2Y5NTg2OTAxMGU02AIF4AIB&ucfs=1&arphpl=1&checkin=2023-08-04&checkout=2023-08-20&dest_id=-121726&dest_type=city&group_adults=2&req_adults=2&no_rooms=1&group_children=0&req_children=0&hpos=8&hapos=33&sr_order=popularity&srpvid=b81b874d3c21011a&srepoch=1674328477&all_sr_blocks=925307201_364332789_2_0_0&highlighted_blocks=925307201_364332789_2_0_0&matching_block_id=925307201_364332789_2_0_0&sr_pri_blocks=925307201_364332789_2_0_0__226000&tpi_r=2&from=searchresults#hotelTmpl                     |\n",
      "|Mini loft Moscova                                |Appartement          |Sempione, Milan         |2 km du centre  |3         |9.2 |2590|non compris           |annulation gratuite|5 Via Giuseppe Giusti, Sempione, 20154 Milan, Italie                          |45.48036 |9.178725|0             |Cet appartement avec vue sur la ville dispose de parquet, d'une chambre et d'une salle de bains avec bidet, douche et peignoirs. Les serviettes et le linge de lit sont fournis.                                                                                                                                                                                                                                                                                                                                                                                                                |https://www.booking.com/hotel/it/mini-loft-moscova.fr.html?aid=304142&label=gen173nr-1FCAQoggI4iQRIDVgEaE2IAQGYAQ24AQrIAQXYAQHoAQH4AQOIAgGoAgO4ApvzsJ4GwAIB0gIkNWExZmY2ZjEtMzFkZS00NmYxLWI5ZWItM2Y5NTg2OTAxMGU02AIF4AIB&ucfs=1&arphpl=1&checkin=2023-08-04&checkout=2023-08-20&dest_id=-121726&dest_type=city&group_adults=2&req_adults=2&no_rooms=1&group_children=0&req_children=0&hpos=7&hapos=32&sr_order=popularity&srpvid=b81b874d3c21011a&srepoch=1674328477&all_sr_blocks=483520901_360671357_2_0_0&highlighted_blocks=483520901_360671357_2_0_0&matching_block_id=483520901_360671357_2_0_0&sr_pri_blocks=483520901_360671357_2_0_0__258960&tpi_r=2&from_sustainable_property_sr=1&from=searchresults#hotelTmpl                       |\n",
      "|Piranesi 246                                     |Studio               |Porta Vittoria, Milan   |2,8 km du centre|4         |8.6 |2692|non compris           |annulation gratuite|Viale Molise 84, Porta Vittoria, 20137 Milan, Italie                          |45.46048 |9.224387|0             |Tous les logements comprennent une télévision par satellite à écran plat ainsi qu'une cuisine entièrement équipée avec une table à manger. Leur salle de bains privative est pourvue d'un bidet, d'articles de toilette gratuits et d'un sèche-cheveux. Un réfrigérateur, un lave-vaisselle, un micro-ondes, une machine à café et une bouilloire sont également disponibles.Le Piranesi 246 se trouve à 3 km de la Villa Necchi Campiglio et du palais royal. L'aéroport de Milan-Linate, le plus proche, est implanté à 5 km.                                                                 |https://www.booking.com/hotel/it/piranesi-246.fr.html?aid=304142&label=gen173nr-1FCAQoggI4iQRIDVgEaE2IAQGYAQ24AQrIAQXYAQHoAQH4AQOIAgGoAgO4ApvzsJ4GwAIB0gIkNWExZmY2ZjEtMzFkZS00NmYxLWI5ZWItM2Y5NTg2OTAxMGU02AIF4AIB&ucfs=1&arphpl=1&checkin=2023-08-04&checkout=2023-08-20&dest_id=-121726&dest_type=city&group_adults=2&req_adults=2&no_rooms=1&group_children=0&req_children=0&hpos=6&hapos=31&sr_order=popularity&srpvid=b81b874d3c21011a&srepoch=1674328477&all_sr_blocks=340652502_327162484_2_0_0&highlighted_blocks=340652502_327162484_2_0_0&matching_block_id=340652502_327162484_2_0_0&sr_pri_blocks=340652502_327162484_2_0_0__269200&tpi_r=2&from_sustainable_property_sr=1&from=searchresults#hotelTmpl                            |\n",
      "+-------------------------------------------------+---------------------+------------------------+----------------+----------+----+----+----------------------+-------------------+------------------------------------------------------------------------------+---------+--------+--------------+------------------------------------------------------------------------------------------------------------------------------------------------------------------------------------------------------------------------------------------------------------------------------------------------------------------------------------------------------------------------------------------------------------------------------------------------------------------------------------------------------------------------------------------------------------------------------------------------+-----------------------------------------------------------------------------------------------------------------------------------------------------------------------------------------------------------------------------------------------------------------------------------------------------------------------------------------------------------------------------------------------------------------------------------------------------------------------------------------------------------------------------------------------------------------------------------------------------------------------------------------------------------------------------------------------------------------------------------------------+\n",
      "only showing top 20 rows\n",
      "\n"
     ]
    }
   ],
   "source": [
    "#Affichage du dataframe final\n",
    "df_booking.show(truncate=False)"
   ]
  },
  {
   "cell_type": "code",
   "execution_count": 34,
   "metadata": {
    "id": "QUuSm2df5HLX"
   },
   "outputs": [],
   "source": [
    "# Export de la base de données nettoyée\n",
    "df_booking.write.format(\"csv\").save(r\"test_booking.json\")"
   ]
  }
 ],
 "metadata": {
  "colab": {
   "provenance": []
  },
  "kernelspec": {
   "display_name": "Python 3 (ipykernel)",
   "language": "python",
   "name": "python3"
  },
  "language_info": {
   "codemirror_mode": {
    "name": "ipython",
    "version": 3
   },
   "file_extension": ".py",
   "mimetype": "text/x-python",
   "name": "python",
   "nbconvert_exporter": "python",
   "pygments_lexer": "ipython3",
   "version": "3.10.9"
  }
 },
 "nbformat": 4,
 "nbformat_minor": 1
}
